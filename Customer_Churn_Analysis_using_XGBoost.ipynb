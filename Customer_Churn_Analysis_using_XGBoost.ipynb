{
  "nbformat": 4,
  "nbformat_minor": 0,
  "metadata": {
    "accelerator": "GPU",
    "colab": {
      "name": "Customer Churn Analysis using XGBoost.ipynb",
      "provenance": [],
      "collapsed_sections": [],
      "toc_visible": true,
      "authorship_tag": "ABX9TyNbTyjs9Ao+dg0ycl527TOU",
      "include_colab_link": true
    },
    "kernelspec": {
      "display_name": "Python 3",
      "name": "python3"
    },
    "language_info": {
      "name": "python"
    }
  },
  "cells": [
    {
      "cell_type": "markdown",
      "metadata": {
        "id": "view-in-github",
        "colab_type": "text"
      },
      "source": [
        "<a href=\"https://colab.research.google.com/github/SKG08/Telco-Customer-Churn-Prediction-using-XGBoost/blob/main/Customer_Churn_Analysis_using_XGBoost.ipynb\" target=\"_parent\"><img src=\"https://colab.research.google.com/assets/colab-badge.svg\" alt=\"Open In Colab\"/></a>"
      ]
    },
    {
      "cell_type": "markdown",
      "metadata": {
        "id": "D1GiSCzD-lda"
      },
      "source": [
        "## Import Libraries"
      ]
    },
    {
      "cell_type": "code",
      "metadata": {
        "id": "TaRHl-ZJ9c0K"
      },
      "source": [
        "\n",
        "import pandas as pd\n",
        "import numpy as np\n",
        "import  xgboost as xgb\n",
        "from sklearn.model_selection  import train_test_split\n",
        "from sklearn.metrics import balanced_accuracy_score, roc_auc_score, make_scorer, confusion_matrix, plot_confusion_matrix\n",
        "from sklearn.model_selection import GridSearchCV"
      ],
      "execution_count": 1,
      "outputs": []
    },
    {
      "cell_type": "markdown",
      "metadata": {
        "id": "nvfsloJh-wEF"
      },
      "source": [
        "## Import Dataset\n",
        "The data is IBM Telco Customer Churn data"
      ]
    },
    {
      "cell_type": "code",
      "metadata": {
        "colab": {
          "resources": {
            "http://localhost:8080/nbextensions/google.colab/files.js": {
              "data": "Ly8gQ29weXJpZ2h0IDIwMTcgR29vZ2xlIExMQwovLwovLyBMaWNlbnNlZCB1bmRlciB0aGUgQXBhY2hlIExpY2Vuc2UsIFZlcnNpb24gMi4wICh0aGUgIkxpY2Vuc2UiKTsKLy8geW91IG1heSBub3QgdXNlIHRoaXMgZmlsZSBleGNlcHQgaW4gY29tcGxpYW5jZSB3aXRoIHRoZSBMaWNlbnNlLgovLyBZb3UgbWF5IG9idGFpbiBhIGNvcHkgb2YgdGhlIExpY2Vuc2UgYXQKLy8KLy8gICAgICBodHRwOi8vd3d3LmFwYWNoZS5vcmcvbGljZW5zZXMvTElDRU5TRS0yLjAKLy8KLy8gVW5sZXNzIHJlcXVpcmVkIGJ5IGFwcGxpY2FibGUgbGF3IG9yIGFncmVlZCB0byBpbiB3cml0aW5nLCBzb2Z0d2FyZQovLyBkaXN0cmlidXRlZCB1bmRlciB0aGUgTGljZW5zZSBpcyBkaXN0cmlidXRlZCBvbiBhbiAiQVMgSVMiIEJBU0lTLAovLyBXSVRIT1VUIFdBUlJBTlRJRVMgT1IgQ09ORElUSU9OUyBPRiBBTlkgS0lORCwgZWl0aGVyIGV4cHJlc3Mgb3IgaW1wbGllZC4KLy8gU2VlIHRoZSBMaWNlbnNlIGZvciB0aGUgc3BlY2lmaWMgbGFuZ3VhZ2UgZ292ZXJuaW5nIHBlcm1pc3Npb25zIGFuZAovLyBsaW1pdGF0aW9ucyB1bmRlciB0aGUgTGljZW5zZS4KCi8qKgogKiBAZmlsZW92ZXJ2aWV3IEhlbHBlcnMgZm9yIGdvb2dsZS5jb2xhYiBQeXRob24gbW9kdWxlLgogKi8KKGZ1bmN0aW9uKHNjb3BlKSB7CmZ1bmN0aW9uIHNwYW4odGV4dCwgc3R5bGVBdHRyaWJ1dGVzID0ge30pIHsKICBjb25zdCBlbGVtZW50ID0gZG9jdW1lbnQuY3JlYXRlRWxlbWVudCgnc3BhbicpOwogIGVsZW1lbnQudGV4dENvbnRlbnQgPSB0ZXh0OwogIGZvciAoY29uc3Qga2V5IG9mIE9iamVjdC5rZXlzKHN0eWxlQXR0cmlidXRlcykpIHsKICAgIGVsZW1lbnQuc3R5bGVba2V5XSA9IHN0eWxlQXR0cmlidXRlc1trZXldOwogIH0KICByZXR1cm4gZWxlbWVudDsKfQoKLy8gTWF4IG51bWJlciBvZiBieXRlcyB3aGljaCB3aWxsIGJlIHVwbG9hZGVkIGF0IGEgdGltZS4KY29uc3QgTUFYX1BBWUxPQURfU0laRSA9IDEwMCAqIDEwMjQ7CgpmdW5jdGlvbiBfdXBsb2FkRmlsZXMoaW5wdXRJZCwgb3V0cHV0SWQpIHsKICBjb25zdCBzdGVwcyA9IHVwbG9hZEZpbGVzU3RlcChpbnB1dElkLCBvdXRwdXRJZCk7CiAgY29uc3Qgb3V0cHV0RWxlbWVudCA9IGRvY3VtZW50LmdldEVsZW1lbnRCeUlkKG91dHB1dElkKTsKICAvLyBDYWNoZSBzdGVwcyBvbiB0aGUgb3V0cHV0RWxlbWVudCB0byBtYWtlIGl0IGF2YWlsYWJsZSBmb3IgdGhlIG5leHQgY2FsbAogIC8vIHRvIHVwbG9hZEZpbGVzQ29udGludWUgZnJvbSBQeXRob24uCiAgb3V0cHV0RWxlbWVudC5zdGVwcyA9IHN0ZXBzOwoKICByZXR1cm4gX3VwbG9hZEZpbGVzQ29udGludWUob3V0cHV0SWQpOwp9CgovLyBUaGlzIGlzIHJvdWdobHkgYW4gYXN5bmMgZ2VuZXJhdG9yIChub3Qgc3VwcG9ydGVkIGluIHRoZSBicm93c2VyIHlldCksCi8vIHdoZXJlIHRoZXJlIGFyZSBtdWx0aXBsZSBhc3luY2hyb25vdXMgc3RlcHMgYW5kIHRoZSBQeXRob24gc2lkZSBpcyBnb2luZwovLyB0byBwb2xsIGZvciBjb21wbGV0aW9uIG9mIGVhY2ggc3RlcC4KLy8gVGhpcyB1c2VzIGEgUHJvbWlzZSB0byBibG9jayB0aGUgcHl0aG9uIHNpZGUgb24gY29tcGxldGlvbiBvZiBlYWNoIHN0ZXAsCi8vIHRoZW4gcGFzc2VzIHRoZSByZXN1bHQgb2YgdGhlIHByZXZpb3VzIHN0ZXAgYXMgdGhlIGlucHV0IHRvIHRoZSBuZXh0IHN0ZXAuCmZ1bmN0aW9uIF91cGxvYWRGaWxlc0NvbnRpbnVlKG91dHB1dElkKSB7CiAgY29uc3Qgb3V0cHV0RWxlbWVudCA9IGRvY3VtZW50LmdldEVsZW1lbnRCeUlkKG91dHB1dElkKTsKICBjb25zdCBzdGVwcyA9IG91dHB1dEVsZW1lbnQuc3RlcHM7CgogIGNvbnN0IG5leHQgPSBzdGVwcy5uZXh0KG91dHB1dEVsZW1lbnQubGFzdFByb21pc2VWYWx1ZSk7CiAgcmV0dXJuIFByb21pc2UucmVzb2x2ZShuZXh0LnZhbHVlLnByb21pc2UpLnRoZW4oKHZhbHVlKSA9PiB7CiAgICAvLyBDYWNoZSB0aGUgbGFzdCBwcm9taXNlIHZhbHVlIHRvIG1ha2UgaXQgYXZhaWxhYmxlIHRvIHRoZSBuZXh0CiAgICAvLyBzdGVwIG9mIHRoZSBnZW5lcmF0b3IuCiAgICBvdXRwdXRFbGVtZW50Lmxhc3RQcm9taXNlVmFsdWUgPSB2YWx1ZTsKICAgIHJldHVybiBuZXh0LnZhbHVlLnJlc3BvbnNlOwogIH0pOwp9CgovKioKICogR2VuZXJhdG9yIGZ1bmN0aW9uIHdoaWNoIGlzIGNhbGxlZCBiZXR3ZWVuIGVhY2ggYXN5bmMgc3RlcCBvZiB0aGUgdXBsb2FkCiAqIHByb2Nlc3MuCiAqIEBwYXJhbSB7c3RyaW5nfSBpbnB1dElkIEVsZW1lbnQgSUQgb2YgdGhlIGlucHV0IGZpbGUgcGlja2VyIGVsZW1lbnQuCiAqIEBwYXJhbSB7c3RyaW5nfSBvdXRwdXRJZCBFbGVtZW50IElEIG9mIHRoZSBvdXRwdXQgZGlzcGxheS4KICogQHJldHVybiB7IUl0ZXJhYmxlPCFPYmplY3Q+fSBJdGVyYWJsZSBvZiBuZXh0IHN0ZXBzLgogKi8KZnVuY3Rpb24qIHVwbG9hZEZpbGVzU3RlcChpbnB1dElkLCBvdXRwdXRJZCkgewogIGNvbnN0IGlucHV0RWxlbWVudCA9IGRvY3VtZW50LmdldEVsZW1lbnRCeUlkKGlucHV0SWQpOwogIGlucHV0RWxlbWVudC5kaXNhYmxlZCA9IGZhbHNlOwoKICBjb25zdCBvdXRwdXRFbGVtZW50ID0gZG9jdW1lbnQuZ2V0RWxlbWVudEJ5SWQob3V0cHV0SWQpOwogIG91dHB1dEVsZW1lbnQuaW5uZXJIVE1MID0gJyc7CgogIGNvbnN0IHBpY2tlZFByb21pc2UgPSBuZXcgUHJvbWlzZSgocmVzb2x2ZSkgPT4gewogICAgaW5wdXRFbGVtZW50LmFkZEV2ZW50TGlzdGVuZXIoJ2NoYW5nZScsIChlKSA9PiB7CiAgICAgIHJlc29sdmUoZS50YXJnZXQuZmlsZXMpOwogICAgfSk7CiAgfSk7CgogIGNvbnN0IGNhbmNlbCA9IGRvY3VtZW50LmNyZWF0ZUVsZW1lbnQoJ2J1dHRvbicpOwogIGlucHV0RWxlbWVudC5wYXJlbnRFbGVtZW50LmFwcGVuZENoaWxkKGNhbmNlbCk7CiAgY2FuY2VsLnRleHRDb250ZW50ID0gJ0NhbmNlbCB1cGxvYWQnOwogIGNvbnN0IGNhbmNlbFByb21pc2UgPSBuZXcgUHJvbWlzZSgocmVzb2x2ZSkgPT4gewogICAgY2FuY2VsLm9uY2xpY2sgPSAoKSA9PiB7CiAgICAgIHJlc29sdmUobnVsbCk7CiAgICB9OwogIH0pOwoKICAvLyBXYWl0IGZvciB0aGUgdXNlciB0byBwaWNrIHRoZSBmaWxlcy4KICBjb25zdCBmaWxlcyA9IHlpZWxkIHsKICAgIHByb21pc2U6IFByb21pc2UucmFjZShbcGlja2VkUHJvbWlzZSwgY2FuY2VsUHJvbWlzZV0pLAogICAgcmVzcG9uc2U6IHsKICAgICAgYWN0aW9uOiAnc3RhcnRpbmcnLAogICAgfQogIH07CgogIGNhbmNlbC5yZW1vdmUoKTsKCiAgLy8gRGlzYWJsZSB0aGUgaW5wdXQgZWxlbWVudCBzaW5jZSBmdXJ0aGVyIHBpY2tzIGFyZSBub3QgYWxsb3dlZC4KICBpbnB1dEVsZW1lbnQuZGlzYWJsZWQgPSB0cnVlOwoKICBpZiAoIWZpbGVzKSB7CiAgICByZXR1cm4gewogICAgICByZXNwb25zZTogewogICAgICAgIGFjdGlvbjogJ2NvbXBsZXRlJywKICAgICAgfQogICAgfTsKICB9CgogIGZvciAoY29uc3QgZmlsZSBvZiBmaWxlcykgewogICAgY29uc3QgbGkgPSBkb2N1bWVudC5jcmVhdGVFbGVtZW50KCdsaScpOwogICAgbGkuYXBwZW5kKHNwYW4oZmlsZS5uYW1lLCB7Zm9udFdlaWdodDogJ2JvbGQnfSkpOwogICAgbGkuYXBwZW5kKHNwYW4oCiAgICAgICAgYCgke2ZpbGUudHlwZSB8fCAnbi9hJ30pIC0gJHtmaWxlLnNpemV9IGJ5dGVzLCBgICsKICAgICAgICBgbGFzdCBtb2RpZmllZDogJHsKICAgICAgICAgICAgZmlsZS5sYXN0TW9kaWZpZWREYXRlID8gZmlsZS5sYXN0TW9kaWZpZWREYXRlLnRvTG9jYWxlRGF0ZVN0cmluZygpIDoKICAgICAgICAgICAgICAgICAgICAgICAgICAgICAgICAgICAgJ24vYSd9IC0gYCkpOwogICAgY29uc3QgcGVyY2VudCA9IHNwYW4oJzAlIGRvbmUnKTsKICAgIGxpLmFwcGVuZENoaWxkKHBlcmNlbnQpOwoKICAgIG91dHB1dEVsZW1lbnQuYXBwZW5kQ2hpbGQobGkpOwoKICAgIGNvbnN0IGZpbGVEYXRhUHJvbWlzZSA9IG5ldyBQcm9taXNlKChyZXNvbHZlKSA9PiB7CiAgICAgIGNvbnN0IHJlYWRlciA9IG5ldyBGaWxlUmVhZGVyKCk7CiAgICAgIHJlYWRlci5vbmxvYWQgPSAoZSkgPT4gewogICAgICAgIHJlc29sdmUoZS50YXJnZXQucmVzdWx0KTsKICAgICAgfTsKICAgICAgcmVhZGVyLnJlYWRBc0FycmF5QnVmZmVyKGZpbGUpOwogICAgfSk7CiAgICAvLyBXYWl0IGZvciB0aGUgZGF0YSB0byBiZSByZWFkeS4KICAgIGxldCBmaWxlRGF0YSA9IHlpZWxkIHsKICAgICAgcHJvbWlzZTogZmlsZURhdGFQcm9taXNlLAogICAgICByZXNwb25zZTogewogICAgICAgIGFjdGlvbjogJ2NvbnRpbnVlJywKICAgICAgfQogICAgfTsKCiAgICAvLyBVc2UgYSBjaHVua2VkIHNlbmRpbmcgdG8gYXZvaWQgbWVzc2FnZSBzaXplIGxpbWl0cy4gU2VlIGIvNjIxMTU2NjAuCiAgICBsZXQgcG9zaXRpb24gPSAwOwogICAgZG8gewogICAgICBjb25zdCBsZW5ndGggPSBNYXRoLm1pbihmaWxlRGF0YS5ieXRlTGVuZ3RoIC0gcG9zaXRpb24sIE1BWF9QQVlMT0FEX1NJWkUpOwogICAgICBjb25zdCBjaHVuayA9IG5ldyBVaW50OEFycmF5KGZpbGVEYXRhLCBwb3NpdGlvbiwgbGVuZ3RoKTsKICAgICAgcG9zaXRpb24gKz0gbGVuZ3RoOwoKICAgICAgY29uc3QgYmFzZTY0ID0gYnRvYShTdHJpbmcuZnJvbUNoYXJDb2RlLmFwcGx5KG51bGwsIGNodW5rKSk7CiAgICAgIHlpZWxkIHsKICAgICAgICByZXNwb25zZTogewogICAgICAgICAgYWN0aW9uOiAnYXBwZW5kJywKICAgICAgICAgIGZpbGU6IGZpbGUubmFtZSwKICAgICAgICAgIGRhdGE6IGJhc2U2NCwKICAgICAgICB9LAogICAgICB9OwoKICAgICAgbGV0IHBlcmNlbnREb25lID0gZmlsZURhdGEuYnl0ZUxlbmd0aCA9PT0gMCA/CiAgICAgICAgICAxMDAgOgogICAgICAgICAgTWF0aC5yb3VuZCgocG9zaXRpb24gLyBmaWxlRGF0YS5ieXRlTGVuZ3RoKSAqIDEwMCk7CiAgICAgIHBlcmNlbnQudGV4dENvbnRlbnQgPSBgJHtwZXJjZW50RG9uZX0lIGRvbmVgOwoKICAgIH0gd2hpbGUgKHBvc2l0aW9uIDwgZmlsZURhdGEuYnl0ZUxlbmd0aCk7CiAgfQoKICAvLyBBbGwgZG9uZS4KICB5aWVsZCB7CiAgICByZXNwb25zZTogewogICAgICBhY3Rpb246ICdjb21wbGV0ZScsCiAgICB9CiAgfTsKfQoKc2NvcGUuZ29vZ2xlID0gc2NvcGUuZ29vZ2xlIHx8IHt9OwpzY29wZS5nb29nbGUuY29sYWIgPSBzY29wZS5nb29nbGUuY29sYWIgfHwge307CnNjb3BlLmdvb2dsZS5jb2xhYi5fZmlsZXMgPSB7CiAgX3VwbG9hZEZpbGVzLAogIF91cGxvYWRGaWxlc0NvbnRpbnVlLAp9Owp9KShzZWxmKTsK",
              "ok": true,
              "headers": [
                [
                  "content-type",
                  "application/javascript"
                ]
              ],
              "status": 200,
              "status_text": ""
            }
          },
          "base_uri": "https://localhost:8080/",
          "height": 73
        },
        "id": "OexTW7uP-zEj",
        "outputId": "8623ce8a-0280-4059-d87c-99cc09481c35"
      },
      "source": [
        "from google.colab import files\n",
        "uploaded = files.upload()"
      ],
      "execution_count": 2,
      "outputs": [
        {
          "output_type": "display_data",
          "data": {
            "text/html": [
              "\n",
              "     <input type=\"file\" id=\"files-8afb6cfd-437d-41f0-a0db-43b57d61a006\" name=\"files[]\" multiple disabled\n",
              "        style=\"border:none\" />\n",
              "     <output id=\"result-8afb6cfd-437d-41f0-a0db-43b57d61a006\">\n",
              "      Upload widget is only available when the cell has been executed in the\n",
              "      current browser session. Please rerun this cell to enable.\n",
              "      </output>\n",
              "      <script src=\"/nbextensions/google.colab/files.js\"></script> "
            ],
            "text/plain": [
              "<IPython.core.display.HTML object>"
            ]
          },
          "metadata": {}
        },
        {
          "output_type": "stream",
          "name": "stdout",
          "text": [
            "Saving Telco_customer_churn.xlsx to Telco_customer_churn.xlsx\n"
          ]
        }
      ]
    },
    {
      "cell_type": "code",
      "metadata": {
        "colab": {
          "base_uri": "https://localhost:8080/",
          "height": 359
        },
        "id": "gYCRjPQC_n4e",
        "outputId": "fa286781-8565-4925-fb76-4fba0f07ab0e"
      },
      "source": [
        "import io\n",
        "df = pd.read_excel(io.BytesIO(uploaded['Telco_customer_churn.xlsx']))\n",
        "df.head()"
      ],
      "execution_count": 3,
      "outputs": [
        {
          "output_type": "execute_result",
          "data": {
            "text/html": [
              "<div>\n",
              "<style scoped>\n",
              "    .dataframe tbody tr th:only-of-type {\n",
              "        vertical-align: middle;\n",
              "    }\n",
              "\n",
              "    .dataframe tbody tr th {\n",
              "        vertical-align: top;\n",
              "    }\n",
              "\n",
              "    .dataframe thead th {\n",
              "        text-align: right;\n",
              "    }\n",
              "</style>\n",
              "<table border=\"1\" class=\"dataframe\">\n",
              "  <thead>\n",
              "    <tr style=\"text-align: right;\">\n",
              "      <th></th>\n",
              "      <th>CustomerID</th>\n",
              "      <th>Count</th>\n",
              "      <th>Country</th>\n",
              "      <th>State</th>\n",
              "      <th>City</th>\n",
              "      <th>Zip Code</th>\n",
              "      <th>Lat Long</th>\n",
              "      <th>Latitude</th>\n",
              "      <th>Longitude</th>\n",
              "      <th>Gender</th>\n",
              "      <th>Senior Citizen</th>\n",
              "      <th>Partner</th>\n",
              "      <th>Dependents</th>\n",
              "      <th>Tenure Months</th>\n",
              "      <th>Phone Service</th>\n",
              "      <th>Multiple Lines</th>\n",
              "      <th>Internet Service</th>\n",
              "      <th>Online Security</th>\n",
              "      <th>Online Backup</th>\n",
              "      <th>Device Protection</th>\n",
              "      <th>Tech Support</th>\n",
              "      <th>Streaming TV</th>\n",
              "      <th>Streaming Movies</th>\n",
              "      <th>Contract</th>\n",
              "      <th>Paperless Billing</th>\n",
              "      <th>Payment Method</th>\n",
              "      <th>Monthly Charges</th>\n",
              "      <th>Total Charges</th>\n",
              "      <th>Churn Label</th>\n",
              "      <th>Churn Value</th>\n",
              "      <th>Churn Score</th>\n",
              "      <th>CLTV</th>\n",
              "      <th>Churn Reason</th>\n",
              "    </tr>\n",
              "  </thead>\n",
              "  <tbody>\n",
              "    <tr>\n",
              "      <th>0</th>\n",
              "      <td>3668-QPYBK</td>\n",
              "      <td>1</td>\n",
              "      <td>United States</td>\n",
              "      <td>California</td>\n",
              "      <td>Los Angeles</td>\n",
              "      <td>90003</td>\n",
              "      <td>33.964131, -118.272783</td>\n",
              "      <td>33.964131</td>\n",
              "      <td>-118.272783</td>\n",
              "      <td>Male</td>\n",
              "      <td>No</td>\n",
              "      <td>No</td>\n",
              "      <td>No</td>\n",
              "      <td>2</td>\n",
              "      <td>Yes</td>\n",
              "      <td>No</td>\n",
              "      <td>DSL</td>\n",
              "      <td>Yes</td>\n",
              "      <td>Yes</td>\n",
              "      <td>No</td>\n",
              "      <td>No</td>\n",
              "      <td>No</td>\n",
              "      <td>No</td>\n",
              "      <td>Month-to-month</td>\n",
              "      <td>Yes</td>\n",
              "      <td>Mailed check</td>\n",
              "      <td>53.85</td>\n",
              "      <td>108.15</td>\n",
              "      <td>Yes</td>\n",
              "      <td>1</td>\n",
              "      <td>86</td>\n",
              "      <td>3239</td>\n",
              "      <td>Competitor made better offer</td>\n",
              "    </tr>\n",
              "    <tr>\n",
              "      <th>1</th>\n",
              "      <td>9237-HQITU</td>\n",
              "      <td>1</td>\n",
              "      <td>United States</td>\n",
              "      <td>California</td>\n",
              "      <td>Los Angeles</td>\n",
              "      <td>90005</td>\n",
              "      <td>34.059281, -118.30742</td>\n",
              "      <td>34.059281</td>\n",
              "      <td>-118.307420</td>\n",
              "      <td>Female</td>\n",
              "      <td>No</td>\n",
              "      <td>No</td>\n",
              "      <td>Yes</td>\n",
              "      <td>2</td>\n",
              "      <td>Yes</td>\n",
              "      <td>No</td>\n",
              "      <td>Fiber optic</td>\n",
              "      <td>No</td>\n",
              "      <td>No</td>\n",
              "      <td>No</td>\n",
              "      <td>No</td>\n",
              "      <td>No</td>\n",
              "      <td>No</td>\n",
              "      <td>Month-to-month</td>\n",
              "      <td>Yes</td>\n",
              "      <td>Electronic check</td>\n",
              "      <td>70.70</td>\n",
              "      <td>151.65</td>\n",
              "      <td>Yes</td>\n",
              "      <td>1</td>\n",
              "      <td>67</td>\n",
              "      <td>2701</td>\n",
              "      <td>Moved</td>\n",
              "    </tr>\n",
              "    <tr>\n",
              "      <th>2</th>\n",
              "      <td>9305-CDSKC</td>\n",
              "      <td>1</td>\n",
              "      <td>United States</td>\n",
              "      <td>California</td>\n",
              "      <td>Los Angeles</td>\n",
              "      <td>90006</td>\n",
              "      <td>34.048013, -118.293953</td>\n",
              "      <td>34.048013</td>\n",
              "      <td>-118.293953</td>\n",
              "      <td>Female</td>\n",
              "      <td>No</td>\n",
              "      <td>No</td>\n",
              "      <td>Yes</td>\n",
              "      <td>8</td>\n",
              "      <td>Yes</td>\n",
              "      <td>Yes</td>\n",
              "      <td>Fiber optic</td>\n",
              "      <td>No</td>\n",
              "      <td>No</td>\n",
              "      <td>Yes</td>\n",
              "      <td>No</td>\n",
              "      <td>Yes</td>\n",
              "      <td>Yes</td>\n",
              "      <td>Month-to-month</td>\n",
              "      <td>Yes</td>\n",
              "      <td>Electronic check</td>\n",
              "      <td>99.65</td>\n",
              "      <td>820.5</td>\n",
              "      <td>Yes</td>\n",
              "      <td>1</td>\n",
              "      <td>86</td>\n",
              "      <td>5372</td>\n",
              "      <td>Moved</td>\n",
              "    </tr>\n",
              "    <tr>\n",
              "      <th>3</th>\n",
              "      <td>7892-POOKP</td>\n",
              "      <td>1</td>\n",
              "      <td>United States</td>\n",
              "      <td>California</td>\n",
              "      <td>Los Angeles</td>\n",
              "      <td>90010</td>\n",
              "      <td>34.062125, -118.315709</td>\n",
              "      <td>34.062125</td>\n",
              "      <td>-118.315709</td>\n",
              "      <td>Female</td>\n",
              "      <td>No</td>\n",
              "      <td>Yes</td>\n",
              "      <td>Yes</td>\n",
              "      <td>28</td>\n",
              "      <td>Yes</td>\n",
              "      <td>Yes</td>\n",
              "      <td>Fiber optic</td>\n",
              "      <td>No</td>\n",
              "      <td>No</td>\n",
              "      <td>Yes</td>\n",
              "      <td>Yes</td>\n",
              "      <td>Yes</td>\n",
              "      <td>Yes</td>\n",
              "      <td>Month-to-month</td>\n",
              "      <td>Yes</td>\n",
              "      <td>Electronic check</td>\n",
              "      <td>104.80</td>\n",
              "      <td>3046.05</td>\n",
              "      <td>Yes</td>\n",
              "      <td>1</td>\n",
              "      <td>84</td>\n",
              "      <td>5003</td>\n",
              "      <td>Moved</td>\n",
              "    </tr>\n",
              "    <tr>\n",
              "      <th>4</th>\n",
              "      <td>0280-XJGEX</td>\n",
              "      <td>1</td>\n",
              "      <td>United States</td>\n",
              "      <td>California</td>\n",
              "      <td>Los Angeles</td>\n",
              "      <td>90015</td>\n",
              "      <td>34.039224, -118.266293</td>\n",
              "      <td>34.039224</td>\n",
              "      <td>-118.266293</td>\n",
              "      <td>Male</td>\n",
              "      <td>No</td>\n",
              "      <td>No</td>\n",
              "      <td>Yes</td>\n",
              "      <td>49</td>\n",
              "      <td>Yes</td>\n",
              "      <td>Yes</td>\n",
              "      <td>Fiber optic</td>\n",
              "      <td>No</td>\n",
              "      <td>Yes</td>\n",
              "      <td>Yes</td>\n",
              "      <td>No</td>\n",
              "      <td>Yes</td>\n",
              "      <td>Yes</td>\n",
              "      <td>Month-to-month</td>\n",
              "      <td>Yes</td>\n",
              "      <td>Bank transfer (automatic)</td>\n",
              "      <td>103.70</td>\n",
              "      <td>5036.3</td>\n",
              "      <td>Yes</td>\n",
              "      <td>1</td>\n",
              "      <td>89</td>\n",
              "      <td>5340</td>\n",
              "      <td>Competitor had better devices</td>\n",
              "    </tr>\n",
              "  </tbody>\n",
              "</table>\n",
              "</div>"
            ],
            "text/plain": [
              "   CustomerID  Count  ...  CLTV                   Churn Reason\n",
              "0  3668-QPYBK      1  ...  3239   Competitor made better offer\n",
              "1  9237-HQITU      1  ...  2701                          Moved\n",
              "2  9305-CDSKC      1  ...  5372                          Moved\n",
              "3  7892-POOKP      1  ...  5003                          Moved\n",
              "4  0280-XJGEX      1  ...  5340  Competitor had better devices\n",
              "\n",
              "[5 rows x 33 columns]"
            ]
          },
          "metadata": {},
          "execution_count": 3
        }
      ]
    },
    {
      "cell_type": "code",
      "metadata": {
        "colab": {
          "base_uri": "https://localhost:8080/"
        },
        "id": "ZiMXowXdBnpm",
        "outputId": "bdb6ab9f-0d73-41c4-cbe0-cca251e60c87"
      },
      "source": [
        "df.columns"
      ],
      "execution_count": null,
      "outputs": [
        {
          "output_type": "execute_result",
          "data": {
            "text/plain": [
              "Index(['CustomerID', 'Count', 'Country', 'State', 'City', 'Zip Code',\n",
              "       'Lat Long', 'Latitude', 'Longitude', 'Gender', 'Senior Citizen',\n",
              "       'Partner', 'Dependents', 'Tenure Months', 'Phone Service',\n",
              "       'Multiple Lines', 'Internet Service', 'Online Security',\n",
              "       'Online Backup', 'Device Protection', 'Tech Support', 'Streaming TV',\n",
              "       'Streaming Movies', 'Contract', 'Paperless Billing', 'Payment Method',\n",
              "       'Monthly Charges', 'Total Charges', 'Churn Label', 'Churn Value',\n",
              "       'Churn Score', 'CLTV', 'Churn Reason'],\n",
              "      dtype='object')"
            ]
          },
          "metadata": {},
          "execution_count": 6
        }
      ]
    },
    {
      "cell_type": "code",
      "metadata": {
        "colab": {
          "base_uri": "https://localhost:8080/"
        },
        "id": "op1zNjDrCDbD",
        "outputId": "e4e0f3ea-815a-4572-daad-f6106e505254"
      },
      "source": [
        "df['Country'].unique()"
      ],
      "execution_count": null,
      "outputs": [
        {
          "output_type": "execute_result",
          "data": {
            "text/plain": [
              "array(['United States'], dtype=object)"
            ]
          },
          "metadata": {},
          "execution_count": 7
        }
      ]
    },
    {
      "cell_type": "code",
      "metadata": {
        "colab": {
          "base_uri": "https://localhost:8080/"
        },
        "id": "fcMS9XF_CuYM",
        "outputId": "f3c4ab40-60b4-4547-c83c-be2190c0f3ef"
      },
      "source": [
        "df['City'].unique()"
      ],
      "execution_count": null,
      "outputs": [
        {
          "output_type": "execute_result",
          "data": {
            "text/plain": [
              "array(['Los Angeles', 'Beverly Hills', 'Huntington Park', ..., 'Standish',\n",
              "       'Tulelake', 'Olympic Valley'], dtype=object)"
            ]
          },
          "metadata": {},
          "execution_count": 8
        }
      ]
    },
    {
      "cell_type": "code",
      "metadata": {
        "colab": {
          "base_uri": "https://localhost:8080/"
        },
        "id": "0YdfFYwuCy3O",
        "outputId": "d1f5c097-bc81-4d97-d3dd-bfc7afae8884"
      },
      "source": [
        "df['State'].unique()"
      ],
      "execution_count": null,
      "outputs": [
        {
          "output_type": "execute_result",
          "data": {
            "text/plain": [
              "array(['California'], dtype=object)"
            ]
          },
          "metadata": {},
          "execution_count": 9
        }
      ]
    },
    {
      "cell_type": "markdown",
      "metadata": {
        "id": "8kApXhvPAorv"
      },
      "source": [
        "## Dropping unneccessary columns\n",
        "\n",
        "*   Customer Id, Count, Zip Code, Lat Long, Latitude and Longitude are not usefule for model development.\n",
        "*   Country and State have only single value  \n",
        "*   Last 4 columns contains information on exit interview and not neccesary for  model training."
      ]
    },
    {
      "cell_type": "code",
      "metadata": {
        "colab": {
          "base_uri": "https://localhost:8080/"
        },
        "id": "WpPC4UUkARL5",
        "outputId": "06c1b7ca-8133-452a-ff8f-6576f62ad3a1"
      },
      "source": [
        "df.drop(['CustomerID','Count','Country', 'State','Zip Code','Lat Long','Churn Label','Churn Score', 'CLTV', 'Churn Reason'],axis=1,inplace=True)\n",
        "df.columns"
      ],
      "execution_count": 4,
      "outputs": [
        {
          "output_type": "execute_result",
          "data": {
            "text/plain": [
              "Index(['City', 'Latitude', 'Longitude', 'Gender', 'Senior Citizen', 'Partner',\n",
              "       'Dependents', 'Tenure Months', 'Phone Service', 'Multiple Lines',\n",
              "       'Internet Service', 'Online Security', 'Online Backup',\n",
              "       'Device Protection', 'Tech Support', 'Streaming TV', 'Streaming Movies',\n",
              "       'Contract', 'Paperless Billing', 'Payment Method', 'Monthly Charges',\n",
              "       'Total Charges', 'Churn Value'],\n",
              "      dtype='object')"
            ]
          },
          "metadata": {},
          "execution_count": 4
        }
      ]
    },
    {
      "cell_type": "markdown",
      "metadata": {
        "id": "FH4zrvvEzWLY"
      },
      "source": [
        "## Replacing white space in city values"
      ]
    },
    {
      "cell_type": "code",
      "metadata": {
        "colab": {
          "base_uri": "https://localhost:8080/",
          "height": 342
        },
        "id": "C4pyCDOazenH",
        "outputId": "b2f38b66-2a82-49e7-9161-a987cc023eaa"
      },
      "source": [
        "df['City'].replace(\" \",\"_\",regex=True,inplace=True)\n",
        "df.head()"
      ],
      "execution_count": 5,
      "outputs": [
        {
          "output_type": "execute_result",
          "data": {
            "text/html": [
              "<div>\n",
              "<style scoped>\n",
              "    .dataframe tbody tr th:only-of-type {\n",
              "        vertical-align: middle;\n",
              "    }\n",
              "\n",
              "    .dataframe tbody tr th {\n",
              "        vertical-align: top;\n",
              "    }\n",
              "\n",
              "    .dataframe thead th {\n",
              "        text-align: right;\n",
              "    }\n",
              "</style>\n",
              "<table border=\"1\" class=\"dataframe\">\n",
              "  <thead>\n",
              "    <tr style=\"text-align: right;\">\n",
              "      <th></th>\n",
              "      <th>City</th>\n",
              "      <th>Latitude</th>\n",
              "      <th>Longitude</th>\n",
              "      <th>Gender</th>\n",
              "      <th>Senior Citizen</th>\n",
              "      <th>Partner</th>\n",
              "      <th>Dependents</th>\n",
              "      <th>Tenure Months</th>\n",
              "      <th>Phone Service</th>\n",
              "      <th>Multiple Lines</th>\n",
              "      <th>Internet Service</th>\n",
              "      <th>Online Security</th>\n",
              "      <th>Online Backup</th>\n",
              "      <th>Device Protection</th>\n",
              "      <th>Tech Support</th>\n",
              "      <th>Streaming TV</th>\n",
              "      <th>Streaming Movies</th>\n",
              "      <th>Contract</th>\n",
              "      <th>Paperless Billing</th>\n",
              "      <th>Payment Method</th>\n",
              "      <th>Monthly Charges</th>\n",
              "      <th>Total Charges</th>\n",
              "      <th>Churn Value</th>\n",
              "    </tr>\n",
              "  </thead>\n",
              "  <tbody>\n",
              "    <tr>\n",
              "      <th>0</th>\n",
              "      <td>Los_Angeles</td>\n",
              "      <td>33.964131</td>\n",
              "      <td>-118.272783</td>\n",
              "      <td>Male</td>\n",
              "      <td>No</td>\n",
              "      <td>No</td>\n",
              "      <td>No</td>\n",
              "      <td>2</td>\n",
              "      <td>Yes</td>\n",
              "      <td>No</td>\n",
              "      <td>DSL</td>\n",
              "      <td>Yes</td>\n",
              "      <td>Yes</td>\n",
              "      <td>No</td>\n",
              "      <td>No</td>\n",
              "      <td>No</td>\n",
              "      <td>No</td>\n",
              "      <td>Month-to-month</td>\n",
              "      <td>Yes</td>\n",
              "      <td>Mailed check</td>\n",
              "      <td>53.85</td>\n",
              "      <td>108.15</td>\n",
              "      <td>1</td>\n",
              "    </tr>\n",
              "    <tr>\n",
              "      <th>1</th>\n",
              "      <td>Los_Angeles</td>\n",
              "      <td>34.059281</td>\n",
              "      <td>-118.307420</td>\n",
              "      <td>Female</td>\n",
              "      <td>No</td>\n",
              "      <td>No</td>\n",
              "      <td>Yes</td>\n",
              "      <td>2</td>\n",
              "      <td>Yes</td>\n",
              "      <td>No</td>\n",
              "      <td>Fiber optic</td>\n",
              "      <td>No</td>\n",
              "      <td>No</td>\n",
              "      <td>No</td>\n",
              "      <td>No</td>\n",
              "      <td>No</td>\n",
              "      <td>No</td>\n",
              "      <td>Month-to-month</td>\n",
              "      <td>Yes</td>\n",
              "      <td>Electronic check</td>\n",
              "      <td>70.70</td>\n",
              "      <td>151.65</td>\n",
              "      <td>1</td>\n",
              "    </tr>\n",
              "    <tr>\n",
              "      <th>2</th>\n",
              "      <td>Los_Angeles</td>\n",
              "      <td>34.048013</td>\n",
              "      <td>-118.293953</td>\n",
              "      <td>Female</td>\n",
              "      <td>No</td>\n",
              "      <td>No</td>\n",
              "      <td>Yes</td>\n",
              "      <td>8</td>\n",
              "      <td>Yes</td>\n",
              "      <td>Yes</td>\n",
              "      <td>Fiber optic</td>\n",
              "      <td>No</td>\n",
              "      <td>No</td>\n",
              "      <td>Yes</td>\n",
              "      <td>No</td>\n",
              "      <td>Yes</td>\n",
              "      <td>Yes</td>\n",
              "      <td>Month-to-month</td>\n",
              "      <td>Yes</td>\n",
              "      <td>Electronic check</td>\n",
              "      <td>99.65</td>\n",
              "      <td>820.5</td>\n",
              "      <td>1</td>\n",
              "    </tr>\n",
              "    <tr>\n",
              "      <th>3</th>\n",
              "      <td>Los_Angeles</td>\n",
              "      <td>34.062125</td>\n",
              "      <td>-118.315709</td>\n",
              "      <td>Female</td>\n",
              "      <td>No</td>\n",
              "      <td>Yes</td>\n",
              "      <td>Yes</td>\n",
              "      <td>28</td>\n",
              "      <td>Yes</td>\n",
              "      <td>Yes</td>\n",
              "      <td>Fiber optic</td>\n",
              "      <td>No</td>\n",
              "      <td>No</td>\n",
              "      <td>Yes</td>\n",
              "      <td>Yes</td>\n",
              "      <td>Yes</td>\n",
              "      <td>Yes</td>\n",
              "      <td>Month-to-month</td>\n",
              "      <td>Yes</td>\n",
              "      <td>Electronic check</td>\n",
              "      <td>104.80</td>\n",
              "      <td>3046.05</td>\n",
              "      <td>1</td>\n",
              "    </tr>\n",
              "    <tr>\n",
              "      <th>4</th>\n",
              "      <td>Los_Angeles</td>\n",
              "      <td>34.039224</td>\n",
              "      <td>-118.266293</td>\n",
              "      <td>Male</td>\n",
              "      <td>No</td>\n",
              "      <td>No</td>\n",
              "      <td>Yes</td>\n",
              "      <td>49</td>\n",
              "      <td>Yes</td>\n",
              "      <td>Yes</td>\n",
              "      <td>Fiber optic</td>\n",
              "      <td>No</td>\n",
              "      <td>Yes</td>\n",
              "      <td>Yes</td>\n",
              "      <td>No</td>\n",
              "      <td>Yes</td>\n",
              "      <td>Yes</td>\n",
              "      <td>Month-to-month</td>\n",
              "      <td>Yes</td>\n",
              "      <td>Bank transfer (automatic)</td>\n",
              "      <td>103.70</td>\n",
              "      <td>5036.3</td>\n",
              "      <td>1</td>\n",
              "    </tr>\n",
              "  </tbody>\n",
              "</table>\n",
              "</div>"
            ],
            "text/plain": [
              "          City   Latitude  ...  Total Charges Churn Value\n",
              "0  Los_Angeles  33.964131  ...         108.15           1\n",
              "1  Los_Angeles  34.059281  ...         151.65           1\n",
              "2  Los_Angeles  34.048013  ...          820.5           1\n",
              "3  Los_Angeles  34.062125  ...        3046.05           1\n",
              "4  Los_Angeles  34.039224  ...         5036.3           1\n",
              "\n",
              "[5 rows x 23 columns]"
            ]
          },
          "metadata": {},
          "execution_count": 5
        }
      ]
    },
    {
      "cell_type": "code",
      "metadata": {
        "colab": {
          "base_uri": "https://localhost:8080/"
        },
        "id": "Wz3-OqLg0jJQ",
        "outputId": "294e0a70-97a3-42a7-eff0-5d4af5fd6f1d"
      },
      "source": [
        "df['City'].unique()[0:10]"
      ],
      "execution_count": 6,
      "outputs": [
        {
          "output_type": "execute_result",
          "data": {
            "text/plain": [
              "array(['Los_Angeles', 'Beverly_Hills', 'Huntington_Park', 'Lynwood',\n",
              "       'Marina_Del_Rey', 'Inglewood', 'Santa_Monica', 'Torrance',\n",
              "       'Whittier', 'La_Habra'], dtype=object)"
            ]
          },
          "metadata": {},
          "execution_count": 6
        }
      ]
    },
    {
      "cell_type": "markdown",
      "metadata": {
        "id": "CIhihRnK0A60"
      },
      "source": [
        "## Replacing white space in column names"
      ]
    },
    {
      "cell_type": "code",
      "metadata": {
        "colab": {
          "base_uri": "https://localhost:8080/"
        },
        "id": "xu8N4hRXz3v3",
        "outputId": "d7c3f068-f09d-4fb9-cc68-5a67d1d042a8"
      },
      "source": [
        "df.columns = df.columns.str.replace(\" \",\"_\")\n",
        "df.columns"
      ],
      "execution_count": 7,
      "outputs": [
        {
          "output_type": "execute_result",
          "data": {
            "text/plain": [
              "Index(['City', 'Latitude', 'Longitude', 'Gender', 'Senior_Citizen', 'Partner',\n",
              "       'Dependents', 'Tenure_Months', 'Phone_Service', 'Multiple_Lines',\n",
              "       'Internet_Service', 'Online_Security', 'Online_Backup',\n",
              "       'Device_Protection', 'Tech_Support', 'Streaming_TV', 'Streaming_Movies',\n",
              "       'Contract', 'Paperless_Billing', 'Payment_Method', 'Monthly_Charges',\n",
              "       'Total_Charges', 'Churn_Value'],\n",
              "      dtype='object')"
            ]
          },
          "metadata": {},
          "execution_count": 7
        }
      ]
    },
    {
      "cell_type": "markdown",
      "metadata": {
        "id": "SMBgidUcMSbK"
      },
      "source": [
        "## Missing Value Analysis"
      ]
    },
    {
      "cell_type": "code",
      "metadata": {
        "colab": {
          "base_uri": "https://localhost:8080/"
        },
        "id": "8_Cuufp_QCBk",
        "outputId": "cf109f17-3683-4b47-9d1c-bf2db7dca8be"
      },
      "source": [
        "df.dtypes"
      ],
      "execution_count": null,
      "outputs": [
        {
          "output_type": "execute_result",
          "data": {
            "text/plain": [
              "City                  object\n",
              "Latitude             float64\n",
              "Longitude            float64\n",
              "Gender                object\n",
              "Senior_Citizen        object\n",
              "Partner               object\n",
              "Dependents            object\n",
              "Tenure_Months          int64\n",
              "Phone_Service         object\n",
              "Multiple_Lines        object\n",
              "Internet_Service      object\n",
              "Online_Security       object\n",
              "Online_Backup         object\n",
              "Device_Protection     object\n",
              "Tech_Support          object\n",
              "Streaming_TV          object\n",
              "Streaming_Movies      object\n",
              "Contract              object\n",
              "Paperless_Billing     object\n",
              "Payment_Method        object\n",
              "Monthly_Charges      float64\n",
              "Total_Charges         object\n",
              "Churn_Value            int64\n",
              "dtype: object"
            ]
          },
          "metadata": {},
          "execution_count": 14
        }
      ]
    },
    {
      "cell_type": "code",
      "metadata": {
        "id": "jT44oNRD0WCm"
      },
      "source": [
        "missing_data = df.isnull()\n",
        "for col in missing_data.columns.to_list():\n",
        "  print(col)\n",
        "  print(missing_data[col].value_counts())\n",
        "  print(\"\")"
      ],
      "execution_count": null,
      "outputs": []
    },
    {
      "cell_type": "markdown",
      "metadata": {
        "id": "3m3uDaa2P2wn"
      },
      "source": [
        "There is no miising data though Total_Charges column supposed to be numeric and data type shoild be float/integer but it is object so we should check further."
      ]
    },
    {
      "cell_type": "code",
      "metadata": {
        "colab": {
          "base_uri": "https://localhost:8080/",
          "height": 578
        },
        "id": "P8s-h3YmMr4Q",
        "outputId": "c6ff0d5c-bb46-4847-b513-dbf000a17419"
      },
      "source": [
        "print(len(df.loc[(df['Total_Charges']==\" \")]))\n",
        "df.loc[(df['Total_Charges']==\" \")]"
      ],
      "execution_count": 8,
      "outputs": [
        {
          "output_type": "stream",
          "name": "stdout",
          "text": [
            "11\n"
          ]
        },
        {
          "output_type": "execute_result",
          "data": {
            "text/html": [
              "<div>\n",
              "<style scoped>\n",
              "    .dataframe tbody tr th:only-of-type {\n",
              "        vertical-align: middle;\n",
              "    }\n",
              "\n",
              "    .dataframe tbody tr th {\n",
              "        vertical-align: top;\n",
              "    }\n",
              "\n",
              "    .dataframe thead th {\n",
              "        text-align: right;\n",
              "    }\n",
              "</style>\n",
              "<table border=\"1\" class=\"dataframe\">\n",
              "  <thead>\n",
              "    <tr style=\"text-align: right;\">\n",
              "      <th></th>\n",
              "      <th>City</th>\n",
              "      <th>Latitude</th>\n",
              "      <th>Longitude</th>\n",
              "      <th>Gender</th>\n",
              "      <th>Senior_Citizen</th>\n",
              "      <th>Partner</th>\n",
              "      <th>Dependents</th>\n",
              "      <th>Tenure_Months</th>\n",
              "      <th>Phone_Service</th>\n",
              "      <th>Multiple_Lines</th>\n",
              "      <th>Internet_Service</th>\n",
              "      <th>Online_Security</th>\n",
              "      <th>Online_Backup</th>\n",
              "      <th>Device_Protection</th>\n",
              "      <th>Tech_Support</th>\n",
              "      <th>Streaming_TV</th>\n",
              "      <th>Streaming_Movies</th>\n",
              "      <th>Contract</th>\n",
              "      <th>Paperless_Billing</th>\n",
              "      <th>Payment_Method</th>\n",
              "      <th>Monthly_Charges</th>\n",
              "      <th>Total_Charges</th>\n",
              "      <th>Churn_Value</th>\n",
              "    </tr>\n",
              "  </thead>\n",
              "  <tbody>\n",
              "    <tr>\n",
              "      <th>2234</th>\n",
              "      <td>San_Bernardino</td>\n",
              "      <td>34.084909</td>\n",
              "      <td>-117.258107</td>\n",
              "      <td>Female</td>\n",
              "      <td>No</td>\n",
              "      <td>Yes</td>\n",
              "      <td>No</td>\n",
              "      <td>0</td>\n",
              "      <td>No</td>\n",
              "      <td>No phone service</td>\n",
              "      <td>DSL</td>\n",
              "      <td>Yes</td>\n",
              "      <td>No</td>\n",
              "      <td>Yes</td>\n",
              "      <td>Yes</td>\n",
              "      <td>Yes</td>\n",
              "      <td>No</td>\n",
              "      <td>Two year</td>\n",
              "      <td>Yes</td>\n",
              "      <td>Bank transfer (automatic)</td>\n",
              "      <td>52.55</td>\n",
              "      <td></td>\n",
              "      <td>0</td>\n",
              "    </tr>\n",
              "    <tr>\n",
              "      <th>2438</th>\n",
              "      <td>Independence</td>\n",
              "      <td>36.869584</td>\n",
              "      <td>-118.189241</td>\n",
              "      <td>Male</td>\n",
              "      <td>No</td>\n",
              "      <td>No</td>\n",
              "      <td>No</td>\n",
              "      <td>0</td>\n",
              "      <td>Yes</td>\n",
              "      <td>No</td>\n",
              "      <td>No</td>\n",
              "      <td>No internet service</td>\n",
              "      <td>No internet service</td>\n",
              "      <td>No internet service</td>\n",
              "      <td>No internet service</td>\n",
              "      <td>No internet service</td>\n",
              "      <td>No internet service</td>\n",
              "      <td>Two year</td>\n",
              "      <td>No</td>\n",
              "      <td>Mailed check</td>\n",
              "      <td>20.25</td>\n",
              "      <td></td>\n",
              "      <td>0</td>\n",
              "    </tr>\n",
              "    <tr>\n",
              "      <th>2568</th>\n",
              "      <td>San_Mateo</td>\n",
              "      <td>37.590421</td>\n",
              "      <td>-122.306467</td>\n",
              "      <td>Female</td>\n",
              "      <td>No</td>\n",
              "      <td>Yes</td>\n",
              "      <td>No</td>\n",
              "      <td>0</td>\n",
              "      <td>Yes</td>\n",
              "      <td>No</td>\n",
              "      <td>DSL</td>\n",
              "      <td>Yes</td>\n",
              "      <td>Yes</td>\n",
              "      <td>Yes</td>\n",
              "      <td>No</td>\n",
              "      <td>Yes</td>\n",
              "      <td>Yes</td>\n",
              "      <td>Two year</td>\n",
              "      <td>No</td>\n",
              "      <td>Mailed check</td>\n",
              "      <td>80.85</td>\n",
              "      <td></td>\n",
              "      <td>0</td>\n",
              "    </tr>\n",
              "    <tr>\n",
              "      <th>2667</th>\n",
              "      <td>Cupertino</td>\n",
              "      <td>37.306612</td>\n",
              "      <td>-122.080621</td>\n",
              "      <td>Male</td>\n",
              "      <td>No</td>\n",
              "      <td>Yes</td>\n",
              "      <td>Yes</td>\n",
              "      <td>0</td>\n",
              "      <td>Yes</td>\n",
              "      <td>Yes</td>\n",
              "      <td>No</td>\n",
              "      <td>No internet service</td>\n",
              "      <td>No internet service</td>\n",
              "      <td>No internet service</td>\n",
              "      <td>No internet service</td>\n",
              "      <td>No internet service</td>\n",
              "      <td>No internet service</td>\n",
              "      <td>Two year</td>\n",
              "      <td>No</td>\n",
              "      <td>Mailed check</td>\n",
              "      <td>25.75</td>\n",
              "      <td></td>\n",
              "      <td>0</td>\n",
              "    </tr>\n",
              "    <tr>\n",
              "      <th>2856</th>\n",
              "      <td>Redcrest</td>\n",
              "      <td>40.363446</td>\n",
              "      <td>-123.835041</td>\n",
              "      <td>Female</td>\n",
              "      <td>No</td>\n",
              "      <td>Yes</td>\n",
              "      <td>No</td>\n",
              "      <td>0</td>\n",
              "      <td>No</td>\n",
              "      <td>No phone service</td>\n",
              "      <td>DSL</td>\n",
              "      <td>Yes</td>\n",
              "      <td>Yes</td>\n",
              "      <td>Yes</td>\n",
              "      <td>Yes</td>\n",
              "      <td>Yes</td>\n",
              "      <td>No</td>\n",
              "      <td>Two year</td>\n",
              "      <td>No</td>\n",
              "      <td>Credit card (automatic)</td>\n",
              "      <td>56.05</td>\n",
              "      <td></td>\n",
              "      <td>0</td>\n",
              "    </tr>\n",
              "    <tr>\n",
              "      <th>4331</th>\n",
              "      <td>Los_Angeles</td>\n",
              "      <td>34.089953</td>\n",
              "      <td>-118.294824</td>\n",
              "      <td>Male</td>\n",
              "      <td>No</td>\n",
              "      <td>Yes</td>\n",
              "      <td>Yes</td>\n",
              "      <td>0</td>\n",
              "      <td>Yes</td>\n",
              "      <td>No</td>\n",
              "      <td>No</td>\n",
              "      <td>No internet service</td>\n",
              "      <td>No internet service</td>\n",
              "      <td>No internet service</td>\n",
              "      <td>No internet service</td>\n",
              "      <td>No internet service</td>\n",
              "      <td>No internet service</td>\n",
              "      <td>Two year</td>\n",
              "      <td>No</td>\n",
              "      <td>Mailed check</td>\n",
              "      <td>19.85</td>\n",
              "      <td></td>\n",
              "      <td>0</td>\n",
              "    </tr>\n",
              "    <tr>\n",
              "      <th>4687</th>\n",
              "      <td>Sun_City</td>\n",
              "      <td>33.739412</td>\n",
              "      <td>-117.173334</td>\n",
              "      <td>Male</td>\n",
              "      <td>No</td>\n",
              "      <td>Yes</td>\n",
              "      <td>Yes</td>\n",
              "      <td>0</td>\n",
              "      <td>Yes</td>\n",
              "      <td>Yes</td>\n",
              "      <td>No</td>\n",
              "      <td>No internet service</td>\n",
              "      <td>No internet service</td>\n",
              "      <td>No internet service</td>\n",
              "      <td>No internet service</td>\n",
              "      <td>No internet service</td>\n",
              "      <td>No internet service</td>\n",
              "      <td>Two year</td>\n",
              "      <td>No</td>\n",
              "      <td>Mailed check</td>\n",
              "      <td>25.35</td>\n",
              "      <td></td>\n",
              "      <td>0</td>\n",
              "    </tr>\n",
              "    <tr>\n",
              "      <th>5104</th>\n",
              "      <td>Ben_Lomond</td>\n",
              "      <td>37.078873</td>\n",
              "      <td>-122.090386</td>\n",
              "      <td>Female</td>\n",
              "      <td>No</td>\n",
              "      <td>Yes</td>\n",
              "      <td>Yes</td>\n",
              "      <td>0</td>\n",
              "      <td>Yes</td>\n",
              "      <td>No</td>\n",
              "      <td>No</td>\n",
              "      <td>No internet service</td>\n",
              "      <td>No internet service</td>\n",
              "      <td>No internet service</td>\n",
              "      <td>No internet service</td>\n",
              "      <td>No internet service</td>\n",
              "      <td>No internet service</td>\n",
              "      <td>Two year</td>\n",
              "      <td>No</td>\n",
              "      <td>Mailed check</td>\n",
              "      <td>20.00</td>\n",
              "      <td></td>\n",
              "      <td>0</td>\n",
              "    </tr>\n",
              "    <tr>\n",
              "      <th>5719</th>\n",
              "      <td>La_Verne</td>\n",
              "      <td>34.144703</td>\n",
              "      <td>-117.770299</td>\n",
              "      <td>Male</td>\n",
              "      <td>No</td>\n",
              "      <td>Yes</td>\n",
              "      <td>Yes</td>\n",
              "      <td>0</td>\n",
              "      <td>Yes</td>\n",
              "      <td>No</td>\n",
              "      <td>No</td>\n",
              "      <td>No internet service</td>\n",
              "      <td>No internet service</td>\n",
              "      <td>No internet service</td>\n",
              "      <td>No internet service</td>\n",
              "      <td>No internet service</td>\n",
              "      <td>No internet service</td>\n",
              "      <td>One year</td>\n",
              "      <td>Yes</td>\n",
              "      <td>Mailed check</td>\n",
              "      <td>19.70</td>\n",
              "      <td></td>\n",
              "      <td>0</td>\n",
              "    </tr>\n",
              "    <tr>\n",
              "      <th>6772</th>\n",
              "      <td>Bell</td>\n",
              "      <td>33.970343</td>\n",
              "      <td>-118.171368</td>\n",
              "      <td>Female</td>\n",
              "      <td>No</td>\n",
              "      <td>Yes</td>\n",
              "      <td>Yes</td>\n",
              "      <td>0</td>\n",
              "      <td>Yes</td>\n",
              "      <td>Yes</td>\n",
              "      <td>DSL</td>\n",
              "      <td>No</td>\n",
              "      <td>Yes</td>\n",
              "      <td>Yes</td>\n",
              "      <td>Yes</td>\n",
              "      <td>Yes</td>\n",
              "      <td>No</td>\n",
              "      <td>Two year</td>\n",
              "      <td>No</td>\n",
              "      <td>Mailed check</td>\n",
              "      <td>73.35</td>\n",
              "      <td></td>\n",
              "      <td>0</td>\n",
              "    </tr>\n",
              "    <tr>\n",
              "      <th>6840</th>\n",
              "      <td>Wilmington</td>\n",
              "      <td>33.782068</td>\n",
              "      <td>-118.262263</td>\n",
              "      <td>Male</td>\n",
              "      <td>No</td>\n",
              "      <td>No</td>\n",
              "      <td>Yes</td>\n",
              "      <td>0</td>\n",
              "      <td>Yes</td>\n",
              "      <td>Yes</td>\n",
              "      <td>DSL</td>\n",
              "      <td>Yes</td>\n",
              "      <td>Yes</td>\n",
              "      <td>No</td>\n",
              "      <td>Yes</td>\n",
              "      <td>No</td>\n",
              "      <td>No</td>\n",
              "      <td>Two year</td>\n",
              "      <td>Yes</td>\n",
              "      <td>Bank transfer (automatic)</td>\n",
              "      <td>61.90</td>\n",
              "      <td></td>\n",
              "      <td>0</td>\n",
              "    </tr>\n",
              "  </tbody>\n",
              "</table>\n",
              "</div>"
            ],
            "text/plain": [
              "                City   Latitude  ...  Total_Charges Churn_Value\n",
              "2234  San_Bernardino  34.084909  ...                          0\n",
              "2438    Independence  36.869584  ...                          0\n",
              "2568       San_Mateo  37.590421  ...                          0\n",
              "2667       Cupertino  37.306612  ...                          0\n",
              "2856        Redcrest  40.363446  ...                          0\n",
              "4331     Los_Angeles  34.089953  ...                          0\n",
              "4687        Sun_City  33.739412  ...                          0\n",
              "5104      Ben_Lomond  37.078873  ...                          0\n",
              "5719        La_Verne  34.144703  ...                          0\n",
              "6772            Bell  33.970343  ...                          0\n",
              "6840      Wilmington  33.782068  ...                          0\n",
              "\n",
              "[11 rows x 23 columns]"
            ]
          },
          "metadata": {},
          "execution_count": 8
        }
      ]
    },
    {
      "cell_type": "markdown",
      "metadata": {
        "id": "VMOD63bBR9Ls"
      },
      "source": [
        "There are 11 observations where Total Charges are miising/blank values and Tenure in months is also zero for all these cases. We need to replace these values with zeros."
      ]
    },
    {
      "cell_type": "code",
      "metadata": {
        "id": "ARZKHP8BNMoy"
      },
      "source": [
        "df.loc[(df[\"Total_Charges\"] == \" \"), \"Total_Charges\"] = 0"
      ],
      "execution_count": 9,
      "outputs": []
    },
    {
      "cell_type": "code",
      "metadata": {
        "colab": {
          "base_uri": "https://localhost:8080/"
        },
        "id": "Di7KVUhQTQlv",
        "outputId": "832e03af-f025-4ecb-abaa-96c9bb5b9c6a"
      },
      "source": [
        "print(len(df.loc[(df['Total_Charges']==\" \")]))"
      ],
      "execution_count": 10,
      "outputs": [
        {
          "output_type": "stream",
          "name": "stdout",
          "text": [
            "0\n"
          ]
        }
      ]
    },
    {
      "cell_type": "markdown",
      "metadata": {
        "id": "Qou63i3YfYtu"
      },
      "source": [
        "## Converting Total Charges column from string to numeric"
      ]
    },
    {
      "cell_type": "code",
      "metadata": {
        "colab": {
          "base_uri": "https://localhost:8080/"
        },
        "id": "_ix1kT1FfV3X",
        "outputId": "6bb8b9b0-8309-4d85-a49f-7e47bbd2e7cc"
      },
      "source": [
        "df['Total_Charges'] = pd.to_numeric(df[\"Total_Charges\"])\n",
        "df['Total_Charges'].dtypes"
      ],
      "execution_count": 11,
      "outputs": [
        {
          "output_type": "execute_result",
          "data": {
            "text/plain": [
              "dtype('float64')"
            ]
          },
          "metadata": {},
          "execution_count": 11
        }
      ]
    },
    {
      "cell_type": "markdown",
      "metadata": {
        "id": "4UOaEKaxgPT7"
      },
      "source": [
        "## Replacing all white spaces in all colums with underscore (\"_\")"
      ]
    },
    {
      "cell_type": "code",
      "metadata": {
        "colab": {
          "base_uri": "https://localhost:8080/",
          "height": 308
        },
        "id": "54IcpkpafyzF",
        "outputId": "05992d4e-579f-4e01-c8ad-e97ce6fc4640"
      },
      "source": [
        "df.replace(\" \",\"_\",regex=True,inplace=True)\n",
        "df.head()"
      ],
      "execution_count": 12,
      "outputs": [
        {
          "output_type": "execute_result",
          "data": {
            "text/html": [
              "<div>\n",
              "<style scoped>\n",
              "    .dataframe tbody tr th:only-of-type {\n",
              "        vertical-align: middle;\n",
              "    }\n",
              "\n",
              "    .dataframe tbody tr th {\n",
              "        vertical-align: top;\n",
              "    }\n",
              "\n",
              "    .dataframe thead th {\n",
              "        text-align: right;\n",
              "    }\n",
              "</style>\n",
              "<table border=\"1\" class=\"dataframe\">\n",
              "  <thead>\n",
              "    <tr style=\"text-align: right;\">\n",
              "      <th></th>\n",
              "      <th>City</th>\n",
              "      <th>Latitude</th>\n",
              "      <th>Longitude</th>\n",
              "      <th>Gender</th>\n",
              "      <th>Senior_Citizen</th>\n",
              "      <th>Partner</th>\n",
              "      <th>Dependents</th>\n",
              "      <th>Tenure_Months</th>\n",
              "      <th>Phone_Service</th>\n",
              "      <th>Multiple_Lines</th>\n",
              "      <th>Internet_Service</th>\n",
              "      <th>Online_Security</th>\n",
              "      <th>Online_Backup</th>\n",
              "      <th>Device_Protection</th>\n",
              "      <th>Tech_Support</th>\n",
              "      <th>Streaming_TV</th>\n",
              "      <th>Streaming_Movies</th>\n",
              "      <th>Contract</th>\n",
              "      <th>Paperless_Billing</th>\n",
              "      <th>Payment_Method</th>\n",
              "      <th>Monthly_Charges</th>\n",
              "      <th>Total_Charges</th>\n",
              "      <th>Churn_Value</th>\n",
              "    </tr>\n",
              "  </thead>\n",
              "  <tbody>\n",
              "    <tr>\n",
              "      <th>0</th>\n",
              "      <td>Los_Angeles</td>\n",
              "      <td>33.964131</td>\n",
              "      <td>-118.272783</td>\n",
              "      <td>Male</td>\n",
              "      <td>No</td>\n",
              "      <td>No</td>\n",
              "      <td>No</td>\n",
              "      <td>2</td>\n",
              "      <td>Yes</td>\n",
              "      <td>No</td>\n",
              "      <td>DSL</td>\n",
              "      <td>Yes</td>\n",
              "      <td>Yes</td>\n",
              "      <td>No</td>\n",
              "      <td>No</td>\n",
              "      <td>No</td>\n",
              "      <td>No</td>\n",
              "      <td>Month-to-month</td>\n",
              "      <td>Yes</td>\n",
              "      <td>Mailed_check</td>\n",
              "      <td>53.85</td>\n",
              "      <td>108.15</td>\n",
              "      <td>1</td>\n",
              "    </tr>\n",
              "    <tr>\n",
              "      <th>1</th>\n",
              "      <td>Los_Angeles</td>\n",
              "      <td>34.059281</td>\n",
              "      <td>-118.307420</td>\n",
              "      <td>Female</td>\n",
              "      <td>No</td>\n",
              "      <td>No</td>\n",
              "      <td>Yes</td>\n",
              "      <td>2</td>\n",
              "      <td>Yes</td>\n",
              "      <td>No</td>\n",
              "      <td>Fiber_optic</td>\n",
              "      <td>No</td>\n",
              "      <td>No</td>\n",
              "      <td>No</td>\n",
              "      <td>No</td>\n",
              "      <td>No</td>\n",
              "      <td>No</td>\n",
              "      <td>Month-to-month</td>\n",
              "      <td>Yes</td>\n",
              "      <td>Electronic_check</td>\n",
              "      <td>70.70</td>\n",
              "      <td>151.65</td>\n",
              "      <td>1</td>\n",
              "    </tr>\n",
              "    <tr>\n",
              "      <th>2</th>\n",
              "      <td>Los_Angeles</td>\n",
              "      <td>34.048013</td>\n",
              "      <td>-118.293953</td>\n",
              "      <td>Female</td>\n",
              "      <td>No</td>\n",
              "      <td>No</td>\n",
              "      <td>Yes</td>\n",
              "      <td>8</td>\n",
              "      <td>Yes</td>\n",
              "      <td>Yes</td>\n",
              "      <td>Fiber_optic</td>\n",
              "      <td>No</td>\n",
              "      <td>No</td>\n",
              "      <td>Yes</td>\n",
              "      <td>No</td>\n",
              "      <td>Yes</td>\n",
              "      <td>Yes</td>\n",
              "      <td>Month-to-month</td>\n",
              "      <td>Yes</td>\n",
              "      <td>Electronic_check</td>\n",
              "      <td>99.65</td>\n",
              "      <td>820.50</td>\n",
              "      <td>1</td>\n",
              "    </tr>\n",
              "    <tr>\n",
              "      <th>3</th>\n",
              "      <td>Los_Angeles</td>\n",
              "      <td>34.062125</td>\n",
              "      <td>-118.315709</td>\n",
              "      <td>Female</td>\n",
              "      <td>No</td>\n",
              "      <td>Yes</td>\n",
              "      <td>Yes</td>\n",
              "      <td>28</td>\n",
              "      <td>Yes</td>\n",
              "      <td>Yes</td>\n",
              "      <td>Fiber_optic</td>\n",
              "      <td>No</td>\n",
              "      <td>No</td>\n",
              "      <td>Yes</td>\n",
              "      <td>Yes</td>\n",
              "      <td>Yes</td>\n",
              "      <td>Yes</td>\n",
              "      <td>Month-to-month</td>\n",
              "      <td>Yes</td>\n",
              "      <td>Electronic_check</td>\n",
              "      <td>104.80</td>\n",
              "      <td>3046.05</td>\n",
              "      <td>1</td>\n",
              "    </tr>\n",
              "    <tr>\n",
              "      <th>4</th>\n",
              "      <td>Los_Angeles</td>\n",
              "      <td>34.039224</td>\n",
              "      <td>-118.266293</td>\n",
              "      <td>Male</td>\n",
              "      <td>No</td>\n",
              "      <td>No</td>\n",
              "      <td>Yes</td>\n",
              "      <td>49</td>\n",
              "      <td>Yes</td>\n",
              "      <td>Yes</td>\n",
              "      <td>Fiber_optic</td>\n",
              "      <td>No</td>\n",
              "      <td>Yes</td>\n",
              "      <td>Yes</td>\n",
              "      <td>No</td>\n",
              "      <td>Yes</td>\n",
              "      <td>Yes</td>\n",
              "      <td>Month-to-month</td>\n",
              "      <td>Yes</td>\n",
              "      <td>Bank_transfer_(automatic)</td>\n",
              "      <td>103.70</td>\n",
              "      <td>5036.30</td>\n",
              "      <td>1</td>\n",
              "    </tr>\n",
              "  </tbody>\n",
              "</table>\n",
              "</div>"
            ],
            "text/plain": [
              "          City   Latitude  ...  Total_Charges Churn_Value\n",
              "0  Los_Angeles  33.964131  ...         108.15           1\n",
              "1  Los_Angeles  34.059281  ...         151.65           1\n",
              "2  Los_Angeles  34.048013  ...         820.50           1\n",
              "3  Los_Angeles  34.062125  ...        3046.05           1\n",
              "4  Los_Angeles  34.039224  ...        5036.30           1\n",
              "\n",
              "[5 rows x 23 columns]"
            ]
          },
          "metadata": {},
          "execution_count": 12
        }
      ]
    },
    {
      "cell_type": "markdown",
      "metadata": {
        "id": "UUICBzzHYghR"
      },
      "source": [
        "## Split data in Target Variabled and Features "
      ]
    },
    {
      "cell_type": "code",
      "metadata": {
        "colab": {
          "base_uri": "https://localhost:8080/",
          "height": 308
        },
        "id": "R-R_04LPgnfK",
        "outputId": "94d60e37-9b6c-457d-aa8a-e6f2d84b744b"
      },
      "source": [
        "X = df.drop('Churn_Value', axis=1).copy()\n",
        "X.head()"
      ],
      "execution_count": 13,
      "outputs": [
        {
          "output_type": "execute_result",
          "data": {
            "text/html": [
              "<div>\n",
              "<style scoped>\n",
              "    .dataframe tbody tr th:only-of-type {\n",
              "        vertical-align: middle;\n",
              "    }\n",
              "\n",
              "    .dataframe tbody tr th {\n",
              "        vertical-align: top;\n",
              "    }\n",
              "\n",
              "    .dataframe thead th {\n",
              "        text-align: right;\n",
              "    }\n",
              "</style>\n",
              "<table border=\"1\" class=\"dataframe\">\n",
              "  <thead>\n",
              "    <tr style=\"text-align: right;\">\n",
              "      <th></th>\n",
              "      <th>City</th>\n",
              "      <th>Latitude</th>\n",
              "      <th>Longitude</th>\n",
              "      <th>Gender</th>\n",
              "      <th>Senior_Citizen</th>\n",
              "      <th>Partner</th>\n",
              "      <th>Dependents</th>\n",
              "      <th>Tenure_Months</th>\n",
              "      <th>Phone_Service</th>\n",
              "      <th>Multiple_Lines</th>\n",
              "      <th>Internet_Service</th>\n",
              "      <th>Online_Security</th>\n",
              "      <th>Online_Backup</th>\n",
              "      <th>Device_Protection</th>\n",
              "      <th>Tech_Support</th>\n",
              "      <th>Streaming_TV</th>\n",
              "      <th>Streaming_Movies</th>\n",
              "      <th>Contract</th>\n",
              "      <th>Paperless_Billing</th>\n",
              "      <th>Payment_Method</th>\n",
              "      <th>Monthly_Charges</th>\n",
              "      <th>Total_Charges</th>\n",
              "    </tr>\n",
              "  </thead>\n",
              "  <tbody>\n",
              "    <tr>\n",
              "      <th>0</th>\n",
              "      <td>Los_Angeles</td>\n",
              "      <td>33.964131</td>\n",
              "      <td>-118.272783</td>\n",
              "      <td>Male</td>\n",
              "      <td>No</td>\n",
              "      <td>No</td>\n",
              "      <td>No</td>\n",
              "      <td>2</td>\n",
              "      <td>Yes</td>\n",
              "      <td>No</td>\n",
              "      <td>DSL</td>\n",
              "      <td>Yes</td>\n",
              "      <td>Yes</td>\n",
              "      <td>No</td>\n",
              "      <td>No</td>\n",
              "      <td>No</td>\n",
              "      <td>No</td>\n",
              "      <td>Month-to-month</td>\n",
              "      <td>Yes</td>\n",
              "      <td>Mailed_check</td>\n",
              "      <td>53.85</td>\n",
              "      <td>108.15</td>\n",
              "    </tr>\n",
              "    <tr>\n",
              "      <th>1</th>\n",
              "      <td>Los_Angeles</td>\n",
              "      <td>34.059281</td>\n",
              "      <td>-118.307420</td>\n",
              "      <td>Female</td>\n",
              "      <td>No</td>\n",
              "      <td>No</td>\n",
              "      <td>Yes</td>\n",
              "      <td>2</td>\n",
              "      <td>Yes</td>\n",
              "      <td>No</td>\n",
              "      <td>Fiber_optic</td>\n",
              "      <td>No</td>\n",
              "      <td>No</td>\n",
              "      <td>No</td>\n",
              "      <td>No</td>\n",
              "      <td>No</td>\n",
              "      <td>No</td>\n",
              "      <td>Month-to-month</td>\n",
              "      <td>Yes</td>\n",
              "      <td>Electronic_check</td>\n",
              "      <td>70.70</td>\n",
              "      <td>151.65</td>\n",
              "    </tr>\n",
              "    <tr>\n",
              "      <th>2</th>\n",
              "      <td>Los_Angeles</td>\n",
              "      <td>34.048013</td>\n",
              "      <td>-118.293953</td>\n",
              "      <td>Female</td>\n",
              "      <td>No</td>\n",
              "      <td>No</td>\n",
              "      <td>Yes</td>\n",
              "      <td>8</td>\n",
              "      <td>Yes</td>\n",
              "      <td>Yes</td>\n",
              "      <td>Fiber_optic</td>\n",
              "      <td>No</td>\n",
              "      <td>No</td>\n",
              "      <td>Yes</td>\n",
              "      <td>No</td>\n",
              "      <td>Yes</td>\n",
              "      <td>Yes</td>\n",
              "      <td>Month-to-month</td>\n",
              "      <td>Yes</td>\n",
              "      <td>Electronic_check</td>\n",
              "      <td>99.65</td>\n",
              "      <td>820.50</td>\n",
              "    </tr>\n",
              "    <tr>\n",
              "      <th>3</th>\n",
              "      <td>Los_Angeles</td>\n",
              "      <td>34.062125</td>\n",
              "      <td>-118.315709</td>\n",
              "      <td>Female</td>\n",
              "      <td>No</td>\n",
              "      <td>Yes</td>\n",
              "      <td>Yes</td>\n",
              "      <td>28</td>\n",
              "      <td>Yes</td>\n",
              "      <td>Yes</td>\n",
              "      <td>Fiber_optic</td>\n",
              "      <td>No</td>\n",
              "      <td>No</td>\n",
              "      <td>Yes</td>\n",
              "      <td>Yes</td>\n",
              "      <td>Yes</td>\n",
              "      <td>Yes</td>\n",
              "      <td>Month-to-month</td>\n",
              "      <td>Yes</td>\n",
              "      <td>Electronic_check</td>\n",
              "      <td>104.80</td>\n",
              "      <td>3046.05</td>\n",
              "    </tr>\n",
              "    <tr>\n",
              "      <th>4</th>\n",
              "      <td>Los_Angeles</td>\n",
              "      <td>34.039224</td>\n",
              "      <td>-118.266293</td>\n",
              "      <td>Male</td>\n",
              "      <td>No</td>\n",
              "      <td>No</td>\n",
              "      <td>Yes</td>\n",
              "      <td>49</td>\n",
              "      <td>Yes</td>\n",
              "      <td>Yes</td>\n",
              "      <td>Fiber_optic</td>\n",
              "      <td>No</td>\n",
              "      <td>Yes</td>\n",
              "      <td>Yes</td>\n",
              "      <td>No</td>\n",
              "      <td>Yes</td>\n",
              "      <td>Yes</td>\n",
              "      <td>Month-to-month</td>\n",
              "      <td>Yes</td>\n",
              "      <td>Bank_transfer_(automatic)</td>\n",
              "      <td>103.70</td>\n",
              "      <td>5036.30</td>\n",
              "    </tr>\n",
              "  </tbody>\n",
              "</table>\n",
              "</div>"
            ],
            "text/plain": [
              "          City   Latitude  ...  Monthly_Charges Total_Charges\n",
              "0  Los_Angeles  33.964131  ...            53.85        108.15\n",
              "1  Los_Angeles  34.059281  ...            70.70        151.65\n",
              "2  Los_Angeles  34.048013  ...            99.65        820.50\n",
              "3  Los_Angeles  34.062125  ...           104.80       3046.05\n",
              "4  Los_Angeles  34.039224  ...           103.70       5036.30\n",
              "\n",
              "[5 rows x 22 columns]"
            ]
          },
          "metadata": {},
          "execution_count": 13
        }
      ]
    },
    {
      "cell_type": "code",
      "metadata": {
        "colab": {
          "base_uri": "https://localhost:8080/"
        },
        "id": "tXtYnZf_ZIGV",
        "outputId": "907f366f-d98a-440f-90ff-a9a2cc96c350"
      },
      "source": [
        "y = df['Churn_Value'].copy()\n",
        "y.head()"
      ],
      "execution_count": 14,
      "outputs": [
        {
          "output_type": "execute_result",
          "data": {
            "text/plain": [
              "0    1\n",
              "1    1\n",
              "2    1\n",
              "3    1\n",
              "4    1\n",
              "Name: Churn_Value, dtype: int64"
            ]
          },
          "metadata": {},
          "execution_count": 14
        }
      ]
    },
    {
      "cell_type": "markdown",
      "metadata": {
        "id": "JmRgpSoOpDza"
      },
      "source": [
        "## One HOT Encoding of Categorical Variables"
      ]
    },
    {
      "cell_type": "code",
      "metadata": {
        "colab": {
          "base_uri": "https://localhost:8080/",
          "height": 269
        },
        "id": "OiHUTJ2-pdD_",
        "outputId": "ec5f8f30-770b-480e-93c7-7ebfd7494848"
      },
      "source": [
        "X_encoded = pd.get_dummies(X,columns=['City', \n",
        "                                      'Gender', \n",
        "                                      'Senior_Citizen', \n",
        "                                      'Partner',\n",
        "                                      'Dependents',\n",
        "                                      'Phone_Service',\n",
        "                                      'Multiple_Lines',\n",
        "                                      'Internet_Service',\n",
        "                                      'Online_Security',\n",
        "                                      'Online_Backup',\n",
        "                                      'Device_Protection',\n",
        "                                      'Tech_Support',\n",
        "                                      'Streaming_TV',\n",
        "                                      'Streaming_Movies',\n",
        "                                      'Contract',\n",
        "                                      'Paperless_Billing',\n",
        "                                      'Payment_Method',],\n",
        "                           )\n",
        "X_encoded.head()"
      ],
      "execution_count": 15,
      "outputs": [
        {
          "output_type": "execute_result",
          "data": {
            "text/html": [
              "<div>\n",
              "<style scoped>\n",
              "    .dataframe tbody tr th:only-of-type {\n",
              "        vertical-align: middle;\n",
              "    }\n",
              "\n",
              "    .dataframe tbody tr th {\n",
              "        vertical-align: top;\n",
              "    }\n",
              "\n",
              "    .dataframe thead th {\n",
              "        text-align: right;\n",
              "    }\n",
              "</style>\n",
              "<table border=\"1\" class=\"dataframe\">\n",
              "  <thead>\n",
              "    <tr style=\"text-align: right;\">\n",
              "      <th></th>\n",
              "      <th>Latitude</th>\n",
              "      <th>Longitude</th>\n",
              "      <th>Tenure_Months</th>\n",
              "      <th>Monthly_Charges</th>\n",
              "      <th>Total_Charges</th>\n",
              "      <th>City_Acampo</th>\n",
              "      <th>City_Acton</th>\n",
              "      <th>City_Adelanto</th>\n",
              "      <th>City_Adin</th>\n",
              "      <th>City_Agoura_Hills</th>\n",
              "      <th>City_Aguanga</th>\n",
              "      <th>City_Ahwahnee</th>\n",
              "      <th>City_Alameda</th>\n",
              "      <th>City_Alamo</th>\n",
              "      <th>City_Albany</th>\n",
              "      <th>City_Albion</th>\n",
              "      <th>City_Alderpoint</th>\n",
              "      <th>City_Alhambra</th>\n",
              "      <th>City_Aliso_Viejo</th>\n",
              "      <th>City_Alleghany</th>\n",
              "      <th>City_Alpaugh</th>\n",
              "      <th>City_Alpine</th>\n",
              "      <th>City_Alta</th>\n",
              "      <th>City_Altadena</th>\n",
              "      <th>City_Alturas</th>\n",
              "      <th>City_Alviso</th>\n",
              "      <th>City_Amador_City</th>\n",
              "      <th>City_Amboy</th>\n",
              "      <th>City_Anaheim</th>\n",
              "      <th>City_Anderson</th>\n",
              "      <th>City_Angels_Camp</th>\n",
              "      <th>City_Angelus_Oaks</th>\n",
              "      <th>City_Angwin</th>\n",
              "      <th>City_Annapolis</th>\n",
              "      <th>City_Antelope</th>\n",
              "      <th>City_Antioch</th>\n",
              "      <th>City_Anza</th>\n",
              "      <th>City_Apple_Valley</th>\n",
              "      <th>City_Applegate</th>\n",
              "      <th>City_Aptos</th>\n",
              "      <th>...</th>\n",
              "      <th>Senior_Citizen_Yes</th>\n",
              "      <th>Partner_No</th>\n",
              "      <th>Partner_Yes</th>\n",
              "      <th>Dependents_No</th>\n",
              "      <th>Dependents_Yes</th>\n",
              "      <th>Phone_Service_No</th>\n",
              "      <th>Phone_Service_Yes</th>\n",
              "      <th>Multiple_Lines_No</th>\n",
              "      <th>Multiple_Lines_No_phone_service</th>\n",
              "      <th>Multiple_Lines_Yes</th>\n",
              "      <th>Internet_Service_DSL</th>\n",
              "      <th>Internet_Service_Fiber_optic</th>\n",
              "      <th>Internet_Service_No</th>\n",
              "      <th>Online_Security_No</th>\n",
              "      <th>Online_Security_No_internet_service</th>\n",
              "      <th>Online_Security_Yes</th>\n",
              "      <th>Online_Backup_No</th>\n",
              "      <th>Online_Backup_No_internet_service</th>\n",
              "      <th>Online_Backup_Yes</th>\n",
              "      <th>Device_Protection_No</th>\n",
              "      <th>Device_Protection_No_internet_service</th>\n",
              "      <th>Device_Protection_Yes</th>\n",
              "      <th>Tech_Support_No</th>\n",
              "      <th>Tech_Support_No_internet_service</th>\n",
              "      <th>Tech_Support_Yes</th>\n",
              "      <th>Streaming_TV_No</th>\n",
              "      <th>Streaming_TV_No_internet_service</th>\n",
              "      <th>Streaming_TV_Yes</th>\n",
              "      <th>Streaming_Movies_No</th>\n",
              "      <th>Streaming_Movies_No_internet_service</th>\n",
              "      <th>Streaming_Movies_Yes</th>\n",
              "      <th>Contract_Month-to-month</th>\n",
              "      <th>Contract_One_year</th>\n",
              "      <th>Contract_Two_year</th>\n",
              "      <th>Paperless_Billing_No</th>\n",
              "      <th>Paperless_Billing_Yes</th>\n",
              "      <th>Payment_Method_Bank_transfer_(automatic)</th>\n",
              "      <th>Payment_Method_Credit_card_(automatic)</th>\n",
              "      <th>Payment_Method_Electronic_check</th>\n",
              "      <th>Payment_Method_Mailed_check</th>\n",
              "    </tr>\n",
              "  </thead>\n",
              "  <tbody>\n",
              "    <tr>\n",
              "      <th>0</th>\n",
              "      <td>33.964131</td>\n",
              "      <td>-118.272783</td>\n",
              "      <td>2</td>\n",
              "      <td>53.85</td>\n",
              "      <td>108.15</td>\n",
              "      <td>0</td>\n",
              "      <td>0</td>\n",
              "      <td>0</td>\n",
              "      <td>0</td>\n",
              "      <td>0</td>\n",
              "      <td>0</td>\n",
              "      <td>0</td>\n",
              "      <td>0</td>\n",
              "      <td>0</td>\n",
              "      <td>0</td>\n",
              "      <td>0</td>\n",
              "      <td>0</td>\n",
              "      <td>0</td>\n",
              "      <td>0</td>\n",
              "      <td>0</td>\n",
              "      <td>0</td>\n",
              "      <td>0</td>\n",
              "      <td>0</td>\n",
              "      <td>0</td>\n",
              "      <td>0</td>\n",
              "      <td>0</td>\n",
              "      <td>0</td>\n",
              "      <td>0</td>\n",
              "      <td>0</td>\n",
              "      <td>0</td>\n",
              "      <td>0</td>\n",
              "      <td>0</td>\n",
              "      <td>0</td>\n",
              "      <td>0</td>\n",
              "      <td>0</td>\n",
              "      <td>0</td>\n",
              "      <td>0</td>\n",
              "      <td>0</td>\n",
              "      <td>0</td>\n",
              "      <td>0</td>\n",
              "      <td>...</td>\n",
              "      <td>0</td>\n",
              "      <td>1</td>\n",
              "      <td>0</td>\n",
              "      <td>1</td>\n",
              "      <td>0</td>\n",
              "      <td>0</td>\n",
              "      <td>1</td>\n",
              "      <td>1</td>\n",
              "      <td>0</td>\n",
              "      <td>0</td>\n",
              "      <td>1</td>\n",
              "      <td>0</td>\n",
              "      <td>0</td>\n",
              "      <td>0</td>\n",
              "      <td>0</td>\n",
              "      <td>1</td>\n",
              "      <td>0</td>\n",
              "      <td>0</td>\n",
              "      <td>1</td>\n",
              "      <td>1</td>\n",
              "      <td>0</td>\n",
              "      <td>0</td>\n",
              "      <td>1</td>\n",
              "      <td>0</td>\n",
              "      <td>0</td>\n",
              "      <td>1</td>\n",
              "      <td>0</td>\n",
              "      <td>0</td>\n",
              "      <td>1</td>\n",
              "      <td>0</td>\n",
              "      <td>0</td>\n",
              "      <td>1</td>\n",
              "      <td>0</td>\n",
              "      <td>0</td>\n",
              "      <td>0</td>\n",
              "      <td>1</td>\n",
              "      <td>0</td>\n",
              "      <td>0</td>\n",
              "      <td>0</td>\n",
              "      <td>1</td>\n",
              "    </tr>\n",
              "    <tr>\n",
              "      <th>1</th>\n",
              "      <td>34.059281</td>\n",
              "      <td>-118.307420</td>\n",
              "      <td>2</td>\n",
              "      <td>70.70</td>\n",
              "      <td>151.65</td>\n",
              "      <td>0</td>\n",
              "      <td>0</td>\n",
              "      <td>0</td>\n",
              "      <td>0</td>\n",
              "      <td>0</td>\n",
              "      <td>0</td>\n",
              "      <td>0</td>\n",
              "      <td>0</td>\n",
              "      <td>0</td>\n",
              "      <td>0</td>\n",
              "      <td>0</td>\n",
              "      <td>0</td>\n",
              "      <td>0</td>\n",
              "      <td>0</td>\n",
              "      <td>0</td>\n",
              "      <td>0</td>\n",
              "      <td>0</td>\n",
              "      <td>0</td>\n",
              "      <td>0</td>\n",
              "      <td>0</td>\n",
              "      <td>0</td>\n",
              "      <td>0</td>\n",
              "      <td>0</td>\n",
              "      <td>0</td>\n",
              "      <td>0</td>\n",
              "      <td>0</td>\n",
              "      <td>0</td>\n",
              "      <td>0</td>\n",
              "      <td>0</td>\n",
              "      <td>0</td>\n",
              "      <td>0</td>\n",
              "      <td>0</td>\n",
              "      <td>0</td>\n",
              "      <td>0</td>\n",
              "      <td>0</td>\n",
              "      <td>...</td>\n",
              "      <td>0</td>\n",
              "      <td>1</td>\n",
              "      <td>0</td>\n",
              "      <td>0</td>\n",
              "      <td>1</td>\n",
              "      <td>0</td>\n",
              "      <td>1</td>\n",
              "      <td>1</td>\n",
              "      <td>0</td>\n",
              "      <td>0</td>\n",
              "      <td>0</td>\n",
              "      <td>1</td>\n",
              "      <td>0</td>\n",
              "      <td>1</td>\n",
              "      <td>0</td>\n",
              "      <td>0</td>\n",
              "      <td>1</td>\n",
              "      <td>0</td>\n",
              "      <td>0</td>\n",
              "      <td>1</td>\n",
              "      <td>0</td>\n",
              "      <td>0</td>\n",
              "      <td>1</td>\n",
              "      <td>0</td>\n",
              "      <td>0</td>\n",
              "      <td>1</td>\n",
              "      <td>0</td>\n",
              "      <td>0</td>\n",
              "      <td>1</td>\n",
              "      <td>0</td>\n",
              "      <td>0</td>\n",
              "      <td>1</td>\n",
              "      <td>0</td>\n",
              "      <td>0</td>\n",
              "      <td>0</td>\n",
              "      <td>1</td>\n",
              "      <td>0</td>\n",
              "      <td>0</td>\n",
              "      <td>1</td>\n",
              "      <td>0</td>\n",
              "    </tr>\n",
              "    <tr>\n",
              "      <th>2</th>\n",
              "      <td>34.048013</td>\n",
              "      <td>-118.293953</td>\n",
              "      <td>8</td>\n",
              "      <td>99.65</td>\n",
              "      <td>820.50</td>\n",
              "      <td>0</td>\n",
              "      <td>0</td>\n",
              "      <td>0</td>\n",
              "      <td>0</td>\n",
              "      <td>0</td>\n",
              "      <td>0</td>\n",
              "      <td>0</td>\n",
              "      <td>0</td>\n",
              "      <td>0</td>\n",
              "      <td>0</td>\n",
              "      <td>0</td>\n",
              "      <td>0</td>\n",
              "      <td>0</td>\n",
              "      <td>0</td>\n",
              "      <td>0</td>\n",
              "      <td>0</td>\n",
              "      <td>0</td>\n",
              "      <td>0</td>\n",
              "      <td>0</td>\n",
              "      <td>0</td>\n",
              "      <td>0</td>\n",
              "      <td>0</td>\n",
              "      <td>0</td>\n",
              "      <td>0</td>\n",
              "      <td>0</td>\n",
              "      <td>0</td>\n",
              "      <td>0</td>\n",
              "      <td>0</td>\n",
              "      <td>0</td>\n",
              "      <td>0</td>\n",
              "      <td>0</td>\n",
              "      <td>0</td>\n",
              "      <td>0</td>\n",
              "      <td>0</td>\n",
              "      <td>0</td>\n",
              "      <td>...</td>\n",
              "      <td>0</td>\n",
              "      <td>1</td>\n",
              "      <td>0</td>\n",
              "      <td>0</td>\n",
              "      <td>1</td>\n",
              "      <td>0</td>\n",
              "      <td>1</td>\n",
              "      <td>0</td>\n",
              "      <td>0</td>\n",
              "      <td>1</td>\n",
              "      <td>0</td>\n",
              "      <td>1</td>\n",
              "      <td>0</td>\n",
              "      <td>1</td>\n",
              "      <td>0</td>\n",
              "      <td>0</td>\n",
              "      <td>1</td>\n",
              "      <td>0</td>\n",
              "      <td>0</td>\n",
              "      <td>0</td>\n",
              "      <td>0</td>\n",
              "      <td>1</td>\n",
              "      <td>1</td>\n",
              "      <td>0</td>\n",
              "      <td>0</td>\n",
              "      <td>0</td>\n",
              "      <td>0</td>\n",
              "      <td>1</td>\n",
              "      <td>0</td>\n",
              "      <td>0</td>\n",
              "      <td>1</td>\n",
              "      <td>1</td>\n",
              "      <td>0</td>\n",
              "      <td>0</td>\n",
              "      <td>0</td>\n",
              "      <td>1</td>\n",
              "      <td>0</td>\n",
              "      <td>0</td>\n",
              "      <td>1</td>\n",
              "      <td>0</td>\n",
              "    </tr>\n",
              "    <tr>\n",
              "      <th>3</th>\n",
              "      <td>34.062125</td>\n",
              "      <td>-118.315709</td>\n",
              "      <td>28</td>\n",
              "      <td>104.80</td>\n",
              "      <td>3046.05</td>\n",
              "      <td>0</td>\n",
              "      <td>0</td>\n",
              "      <td>0</td>\n",
              "      <td>0</td>\n",
              "      <td>0</td>\n",
              "      <td>0</td>\n",
              "      <td>0</td>\n",
              "      <td>0</td>\n",
              "      <td>0</td>\n",
              "      <td>0</td>\n",
              "      <td>0</td>\n",
              "      <td>0</td>\n",
              "      <td>0</td>\n",
              "      <td>0</td>\n",
              "      <td>0</td>\n",
              "      <td>0</td>\n",
              "      <td>0</td>\n",
              "      <td>0</td>\n",
              "      <td>0</td>\n",
              "      <td>0</td>\n",
              "      <td>0</td>\n",
              "      <td>0</td>\n",
              "      <td>0</td>\n",
              "      <td>0</td>\n",
              "      <td>0</td>\n",
              "      <td>0</td>\n",
              "      <td>0</td>\n",
              "      <td>0</td>\n",
              "      <td>0</td>\n",
              "      <td>0</td>\n",
              "      <td>0</td>\n",
              "      <td>0</td>\n",
              "      <td>0</td>\n",
              "      <td>0</td>\n",
              "      <td>0</td>\n",
              "      <td>...</td>\n",
              "      <td>0</td>\n",
              "      <td>0</td>\n",
              "      <td>1</td>\n",
              "      <td>0</td>\n",
              "      <td>1</td>\n",
              "      <td>0</td>\n",
              "      <td>1</td>\n",
              "      <td>0</td>\n",
              "      <td>0</td>\n",
              "      <td>1</td>\n",
              "      <td>0</td>\n",
              "      <td>1</td>\n",
              "      <td>0</td>\n",
              "      <td>1</td>\n",
              "      <td>0</td>\n",
              "      <td>0</td>\n",
              "      <td>1</td>\n",
              "      <td>0</td>\n",
              "      <td>0</td>\n",
              "      <td>0</td>\n",
              "      <td>0</td>\n",
              "      <td>1</td>\n",
              "      <td>0</td>\n",
              "      <td>0</td>\n",
              "      <td>1</td>\n",
              "      <td>0</td>\n",
              "      <td>0</td>\n",
              "      <td>1</td>\n",
              "      <td>0</td>\n",
              "      <td>0</td>\n",
              "      <td>1</td>\n",
              "      <td>1</td>\n",
              "      <td>0</td>\n",
              "      <td>0</td>\n",
              "      <td>0</td>\n",
              "      <td>1</td>\n",
              "      <td>0</td>\n",
              "      <td>0</td>\n",
              "      <td>1</td>\n",
              "      <td>0</td>\n",
              "    </tr>\n",
              "    <tr>\n",
              "      <th>4</th>\n",
              "      <td>34.039224</td>\n",
              "      <td>-118.266293</td>\n",
              "      <td>49</td>\n",
              "      <td>103.70</td>\n",
              "      <td>5036.30</td>\n",
              "      <td>0</td>\n",
              "      <td>0</td>\n",
              "      <td>0</td>\n",
              "      <td>0</td>\n",
              "      <td>0</td>\n",
              "      <td>0</td>\n",
              "      <td>0</td>\n",
              "      <td>0</td>\n",
              "      <td>0</td>\n",
              "      <td>0</td>\n",
              "      <td>0</td>\n",
              "      <td>0</td>\n",
              "      <td>0</td>\n",
              "      <td>0</td>\n",
              "      <td>0</td>\n",
              "      <td>0</td>\n",
              "      <td>0</td>\n",
              "      <td>0</td>\n",
              "      <td>0</td>\n",
              "      <td>0</td>\n",
              "      <td>0</td>\n",
              "      <td>0</td>\n",
              "      <td>0</td>\n",
              "      <td>0</td>\n",
              "      <td>0</td>\n",
              "      <td>0</td>\n",
              "      <td>0</td>\n",
              "      <td>0</td>\n",
              "      <td>0</td>\n",
              "      <td>0</td>\n",
              "      <td>0</td>\n",
              "      <td>0</td>\n",
              "      <td>0</td>\n",
              "      <td>0</td>\n",
              "      <td>0</td>\n",
              "      <td>...</td>\n",
              "      <td>0</td>\n",
              "      <td>1</td>\n",
              "      <td>0</td>\n",
              "      <td>0</td>\n",
              "      <td>1</td>\n",
              "      <td>0</td>\n",
              "      <td>1</td>\n",
              "      <td>0</td>\n",
              "      <td>0</td>\n",
              "      <td>1</td>\n",
              "      <td>0</td>\n",
              "      <td>1</td>\n",
              "      <td>0</td>\n",
              "      <td>1</td>\n",
              "      <td>0</td>\n",
              "      <td>0</td>\n",
              "      <td>0</td>\n",
              "      <td>0</td>\n",
              "      <td>1</td>\n",
              "      <td>0</td>\n",
              "      <td>0</td>\n",
              "      <td>1</td>\n",
              "      <td>1</td>\n",
              "      <td>0</td>\n",
              "      <td>0</td>\n",
              "      <td>0</td>\n",
              "      <td>0</td>\n",
              "      <td>1</td>\n",
              "      <td>0</td>\n",
              "      <td>0</td>\n",
              "      <td>1</td>\n",
              "      <td>1</td>\n",
              "      <td>0</td>\n",
              "      <td>0</td>\n",
              "      <td>0</td>\n",
              "      <td>1</td>\n",
              "      <td>1</td>\n",
              "      <td>0</td>\n",
              "      <td>0</td>\n",
              "      <td>0</td>\n",
              "    </tr>\n",
              "  </tbody>\n",
              "</table>\n",
              "<p>5 rows × 1177 columns</p>\n",
              "</div>"
            ],
            "text/plain": [
              "    Latitude  ...  Payment_Method_Mailed_check\n",
              "0  33.964131  ...                            1\n",
              "1  34.059281  ...                            0\n",
              "2  34.048013  ...                            0\n",
              "3  34.062125  ...                            0\n",
              "4  34.039224  ...                            0\n",
              "\n",
              "[5 rows x 1177 columns]"
            ]
          },
          "metadata": {},
          "execution_count": 15
        }
      ]
    },
    {
      "cell_type": "markdown",
      "metadata": {
        "id": "KqnXX7huy5Hf"
      },
      "source": [
        "## Train Test Split"
      ]
    },
    {
      "cell_type": "code",
      "metadata": {
        "colab": {
          "base_uri": "https://localhost:8080/"
        },
        "id": "ZN6nqXXHrenj",
        "outputId": "b78f0084-1add-44fb-8966-3760dfcbca3e"
      },
      "source": [
        "y.sum()/len(y)"
      ],
      "execution_count": null,
      "outputs": [
        {
          "data": {
            "text/plain": [
              "0.2653698707936959"
            ]
          },
          "execution_count": 23,
          "metadata": {},
          "output_type": "execute_result"
        }
      ]
    },
    {
      "cell_type": "code",
      "metadata": {
        "colab": {
          "base_uri": "https://localhost:8080/"
        },
        "id": "7I662E2AzLS3",
        "outputId": "dd47de22-29b3-4322-be72-4ef198d9cb4d"
      },
      "source": [
        "X_train, X_test, y_train, y_test = train_test_split(X_encoded,y,random_state=42,stratify=y)\n",
        "print(y_train.sum()/len(y_train))\n",
        "print(y_test.sum()/len(y_test))\n",
        "print(X_train.shape)\n",
        "print(X_test.shape)"
      ],
      "execution_count": 17,
      "outputs": [
        {
          "output_type": "stream",
          "name": "stdout",
          "text": [
            "0.2654297614539947\n",
            "0.26519023282226006\n",
            "(5282, 1177)\n",
            "(1761, 1177)\n"
          ]
        }
      ]
    },
    {
      "cell_type": "markdown",
      "metadata": {
        "id": "dDyDALMGHXpK"
      },
      "source": [
        "## Primary Model Development"
      ]
    },
    {
      "cell_type": "code",
      "metadata": {
        "colab": {
          "base_uri": "https://localhost:8080/"
        },
        "id": "VpLwlQVyz33J",
        "outputId": "22e3f64c-12b8-49b1-f559-2dcea7f3d717"
      },
      "source": [
        "xgb_model = xgb.XGBClassifier(objective='binary:logistic',missing=None,seed=42)\n",
        "xgb_model.fit(X_train,\n",
        "              y_train,\n",
        "              verbose=True,\n",
        "              early_stopping_rounds=10,\n",
        "              eval_metric='aucpr',\n",
        "              eval_set=[(X_test,y_test)])"
      ],
      "execution_count": 18,
      "outputs": [
        {
          "output_type": "stream",
          "name": "stdout",
          "text": [
            "[0]\tvalidation_0-aucpr:0.578392\n",
            "Will train until validation_0-aucpr hasn't improved in 10 rounds.\n",
            "[1]\tvalidation_0-aucpr:0.580597\n",
            "[2]\tvalidation_0-aucpr:0.590099\n",
            "[3]\tvalidation_0-aucpr:0.601636\n",
            "[4]\tvalidation_0-aucpr:0.608932\n",
            "[5]\tvalidation_0-aucpr:0.603647\n",
            "[6]\tvalidation_0-aucpr:0.616851\n",
            "[7]\tvalidation_0-aucpr:0.610948\n",
            "[8]\tvalidation_0-aucpr:0.620241\n",
            "[9]\tvalidation_0-aucpr:0.624769\n",
            "[10]\tvalidation_0-aucpr:0.627795\n",
            "[11]\tvalidation_0-aucpr:0.627932\n",
            "[12]\tvalidation_0-aucpr:0.644946\n",
            "[13]\tvalidation_0-aucpr:0.647473\n",
            "[14]\tvalidation_0-aucpr:0.651648\n",
            "[15]\tvalidation_0-aucpr:0.6508\n",
            "[16]\tvalidation_0-aucpr:0.650832\n",
            "[17]\tvalidation_0-aucpr:0.65056\n",
            "[18]\tvalidation_0-aucpr:0.649701\n",
            "[19]\tvalidation_0-aucpr:0.650672\n",
            "[20]\tvalidation_0-aucpr:0.65075\n",
            "[21]\tvalidation_0-aucpr:0.650874\n",
            "[22]\tvalidation_0-aucpr:0.65194\n",
            "[23]\tvalidation_0-aucpr:0.65307\n",
            "[24]\tvalidation_0-aucpr:0.652502\n",
            "[25]\tvalidation_0-aucpr:0.652446\n",
            "[26]\tvalidation_0-aucpr:0.655478\n",
            "[27]\tvalidation_0-aucpr:0.654618\n",
            "[28]\tvalidation_0-aucpr:0.655385\n",
            "[29]\tvalidation_0-aucpr:0.656657\n",
            "[30]\tvalidation_0-aucpr:0.657666\n",
            "[31]\tvalidation_0-aucpr:0.658626\n",
            "[32]\tvalidation_0-aucpr:0.660708\n",
            "[33]\tvalidation_0-aucpr:0.659978\n",
            "[34]\tvalidation_0-aucpr:0.660613\n",
            "[35]\tvalidation_0-aucpr:0.660456\n",
            "[36]\tvalidation_0-aucpr:0.660676\n",
            "[37]\tvalidation_0-aucpr:0.660034\n",
            "[38]\tvalidation_0-aucpr:0.660292\n",
            "[39]\tvalidation_0-aucpr:0.661969\n",
            "[40]\tvalidation_0-aucpr:0.66219\n",
            "[41]\tvalidation_0-aucpr:0.663848\n",
            "[42]\tvalidation_0-aucpr:0.664189\n",
            "[43]\tvalidation_0-aucpr:0.665575\n",
            "[44]\tvalidation_0-aucpr:0.66459\n",
            "[45]\tvalidation_0-aucpr:0.664114\n",
            "[46]\tvalidation_0-aucpr:0.664666\n",
            "[47]\tvalidation_0-aucpr:0.664585\n",
            "[48]\tvalidation_0-aucpr:0.663998\n",
            "[49]\tvalidation_0-aucpr:0.665379\n",
            "[50]\tvalidation_0-aucpr:0.665389\n",
            "[51]\tvalidation_0-aucpr:0.665794\n",
            "[52]\tvalidation_0-aucpr:0.66621\n",
            "[53]\tvalidation_0-aucpr:0.666074\n",
            "[54]\tvalidation_0-aucpr:0.665837\n",
            "[55]\tvalidation_0-aucpr:0.665701\n",
            "[56]\tvalidation_0-aucpr:0.665719\n",
            "[57]\tvalidation_0-aucpr:0.665949\n",
            "[58]\tvalidation_0-aucpr:0.666325\n",
            "[59]\tvalidation_0-aucpr:0.66625\n",
            "[60]\tvalidation_0-aucpr:0.665463\n",
            "[61]\tvalidation_0-aucpr:0.665053\n",
            "[62]\tvalidation_0-aucpr:0.665289\n",
            "[63]\tvalidation_0-aucpr:0.664909\n",
            "[64]\tvalidation_0-aucpr:0.665502\n",
            "[65]\tvalidation_0-aucpr:0.665835\n",
            "[66]\tvalidation_0-aucpr:0.665881\n",
            "[67]\tvalidation_0-aucpr:0.665945\n",
            "[68]\tvalidation_0-aucpr:0.665953\n",
            "Stopping. Best iteration:\n",
            "[58]\tvalidation_0-aucpr:0.666325\n",
            "\n"
          ]
        },
        {
          "output_type": "execute_result",
          "data": {
            "text/plain": [
              "XGBClassifier(seed=42)"
            ]
          },
          "metadata": {},
          "execution_count": 18
        }
      ]
    },
    {
      "cell_type": "markdown",
      "metadata": {
        "id": "NEfwhn0XKqtq"
      },
      "source": [
        "## Plot Confusion Matrix"
      ]
    },
    {
      "cell_type": "code",
      "metadata": {
        "colab": {
          "base_uri": "https://localhost:8080/",
          "height": 352
        },
        "id": "4YtfmPGRIfkG",
        "outputId": "697b4aca-ea5d-4343-acff-ce9d0cb08d17"
      },
      "source": [
        "plot_confusion_matrix(xgb_model, X_test,y_test,values_format='d',display_labels=[\"Did not left\",\"Left\"])"
      ],
      "execution_count": 19,
      "outputs": [
        {
          "output_type": "stream",
          "name": "stderr",
          "text": [
            "/usr/local/lib/python3.7/dist-packages/sklearn/utils/deprecation.py:87: FutureWarning: Function plot_confusion_matrix is deprecated; Function `plot_confusion_matrix` is deprecated in 1.0 and will be removed in 1.2. Use one of the class methods: ConfusionMatrixDisplay.from_predictions or ConfusionMatrixDisplay.from_estimator.\n",
            "  warnings.warn(msg, category=FutureWarning)\n"
          ]
        },
        {
          "output_type": "execute_result",
          "data": {
            "text/plain": [
              "<sklearn.metrics._plot.confusion_matrix.ConfusionMatrixDisplay at 0x7f08e6e3b690>"
            ]
          },
          "metadata": {},
          "execution_count": 19
        },
        {
          "output_type": "display_data",
          "data": {
            "image/png": "[encoded data removed]",
            "text/plain": [
              "<Figure size 432x288 with 2 Axes>"
            ]
          },
          "metadata": {
            "needs_background": "light"
          }
        }
      ]
    },
    {
      "cell_type": "markdown",
      "metadata": {
        "id": "W5IIw2KOyHPD"
      },
      "source": [
        "## Parameter optimization using Gridsearch "
      ]
    },
    {
      "cell_type": "code",
      "metadata": {
        "id": "Kwuokv3yLC-T"
      },
      "source": [
        "params = {'max_depth':[3,4,5],\n",
        "          'learning_rate':[0.1,0.01,0.05],\n",
        "          'gamma':[0.1,0.25,0.5,1.0],\n",
        "          'reg_lambda':[0,1.0,10.0],\n",
        "          'scale_pos_weight':[1,3,5]}\n"
      ],
      "execution_count": null,
      "outputs": []
    },
    {
      "cell_type": "code",
      "metadata": {
        "id": "jymMs77ssGiF"
      },
      "source": [
        ""
      ],
      "execution_count": null,
      "outputs": []
    },
    {
      "cell_type": "code",
      "metadata": {
        "id": "XK-4imDMzonD"
      },
      "source": [
        "xgb_grid = GridSearchCV(estimator= xgb.XGBClassifier(objective='binary:logistic',seed=42,subsample=0.9, colsample_bytree=0.5),\n",
        "                        param_grid = params,\n",
        "                        scoring='roc_auc',\n",
        "                        cv=3, \n",
        "                        n_jobs= 10,\n",
        "                        verbose = 2)\n",
        "xgb_grid.fit(X_train,\n",
        "             y_train,\n",
        "             early_stopping_rounds=10,\n",
        "             eval_metric='auc',\n",
        "             eval_set=[(X_test,y_test)],\n",
        "             verbose= False)"
      ],
      "execution_count": null,
      "outputs": []
    },
    {
      "cell_type": "markdown",
      "metadata": {
        "id": "Upa24bXy2JYk"
      },
      "source": [
        "## Final Model"
      ]
    },
    {
      "cell_type": "code",
      "metadata": {
        "id": "SgxNhFZ310jC",
        "colab": {
          "base_uri": "https://localhost:8080/"
        },
        "outputId": "eb30d0ba-18d7-4baa-cb53-d0d6d0f89cc9"
      },
      "source": [
        "xgb_model_final = xgb.XGBClassifier(objective='binary:logistic',\n",
        "                                    seed=42,\n",
        "                                    gamma=0.25,\n",
        "                                    learn_rate = 0.1,\n",
        "                                    max_depth=4,\n",
        "                                    reg_lambda=10,\n",
        "                                    scale_pos_weight=3,                                    \n",
        "                                    subsample=0.9, \n",
        "                                    colsample_bytree=0.5)\n",
        "xgb_model_final.fit(X_train,\n",
        "             y_train,\n",
        "             verbose=True,\n",
        "             early_stopping_rounds=10,\n",
        "             eval_metric='aucpr',\n",
        "             eval_set=[(X_test,y_test)])"
      ],
      "execution_count": 20,
      "outputs": [
        {
          "output_type": "stream",
          "name": "stdout",
          "text": [
            "[0]\tvalidation_0-aucpr:0.554742\n",
            "Will train until validation_0-aucpr hasn't improved in 10 rounds.\n",
            "[1]\tvalidation_0-aucpr:0.56892\n",
            "[2]\tvalidation_0-aucpr:0.615286\n",
            "[3]\tvalidation_0-aucpr:0.618233\n",
            "[4]\tvalidation_0-aucpr:0.624016\n",
            "[5]\tvalidation_0-aucpr:0.631781\n",
            "[6]\tvalidation_0-aucpr:0.633163\n",
            "[7]\tvalidation_0-aucpr:0.635934\n",
            "[8]\tvalidation_0-aucpr:0.635909\n",
            "[9]\tvalidation_0-aucpr:0.637043\n",
            "[10]\tvalidation_0-aucpr:0.640735\n",
            "[11]\tvalidation_0-aucpr:0.641192\n",
            "[12]\tvalidation_0-aucpr:0.641457\n",
            "[13]\tvalidation_0-aucpr:0.641542\n",
            "[14]\tvalidation_0-aucpr:0.640467\n",
            "[15]\tvalidation_0-aucpr:0.645639\n",
            "[16]\tvalidation_0-aucpr:0.645757\n",
            "[17]\tvalidation_0-aucpr:0.645102\n",
            "[18]\tvalidation_0-aucpr:0.644465\n",
            "[19]\tvalidation_0-aucpr:0.642745\n",
            "[20]\tvalidation_0-aucpr:0.646759\n",
            "[21]\tvalidation_0-aucpr:0.648365\n",
            "[22]\tvalidation_0-aucpr:0.654176\n",
            "[23]\tvalidation_0-aucpr:0.6551\n",
            "[24]\tvalidation_0-aucpr:0.657394\n",
            "[25]\tvalidation_0-aucpr:0.653484\n",
            "[26]\tvalidation_0-aucpr:0.655869\n",
            "[27]\tvalidation_0-aucpr:0.658989\n",
            "[28]\tvalidation_0-aucpr:0.658313\n",
            "[29]\tvalidation_0-aucpr:0.658195\n",
            "[30]\tvalidation_0-aucpr:0.663794\n",
            "[31]\tvalidation_0-aucpr:0.666157\n",
            "[32]\tvalidation_0-aucpr:0.666653\n",
            "[33]\tvalidation_0-aucpr:0.664975\n",
            "[34]\tvalidation_0-aucpr:0.666687\n",
            "[35]\tvalidation_0-aucpr:0.66771\n",
            "[36]\tvalidation_0-aucpr:0.668699\n",
            "[37]\tvalidation_0-aucpr:0.665254\n",
            "[38]\tvalidation_0-aucpr:0.665215\n",
            "[39]\tvalidation_0-aucpr:0.664941\n",
            "[40]\tvalidation_0-aucpr:0.668411\n",
            "[41]\tvalidation_0-aucpr:0.668834\n",
            "[42]\tvalidation_0-aucpr:0.668286\n",
            "[43]\tvalidation_0-aucpr:0.668902\n",
            "[44]\tvalidation_0-aucpr:0.668731\n",
            "[45]\tvalidation_0-aucpr:0.667738\n",
            "[46]\tvalidation_0-aucpr:0.667784\n",
            "[47]\tvalidation_0-aucpr:0.666742\n",
            "[48]\tvalidation_0-aucpr:0.666377\n",
            "[49]\tvalidation_0-aucpr:0.667844\n",
            "[50]\tvalidation_0-aucpr:0.667829\n",
            "[51]\tvalidation_0-aucpr:0.67028\n",
            "[52]\tvalidation_0-aucpr:0.67026\n",
            "[53]\tvalidation_0-aucpr:0.671373\n",
            "[54]\tvalidation_0-aucpr:0.671126\n",
            "[55]\tvalidation_0-aucpr:0.670541\n",
            "[56]\tvalidation_0-aucpr:0.672335\n",
            "[57]\tvalidation_0-aucpr:0.674612\n",
            "[58]\tvalidation_0-aucpr:0.672981\n",
            "[59]\tvalidation_0-aucpr:0.672382\n",
            "[60]\tvalidation_0-aucpr:0.673723\n",
            "[61]\tvalidation_0-aucpr:0.673773\n",
            "[62]\tvalidation_0-aucpr:0.673871\n",
            "[63]\tvalidation_0-aucpr:0.673905\n",
            "[64]\tvalidation_0-aucpr:0.673024\n",
            "[65]\tvalidation_0-aucpr:0.673225\n",
            "[66]\tvalidation_0-aucpr:0.673377\n",
            "[67]\tvalidation_0-aucpr:0.673382\n",
            "Stopping. Best iteration:\n",
            "[57]\tvalidation_0-aucpr:0.674612\n",
            "\n"
          ]
        },
        {
          "output_type": "execute_result",
          "data": {
            "text/plain": [
              "XGBClassifier(colsample_bytree=0.5, gamma=0.25, learn_rate=0.1, max_depth=4,\n",
              "              reg_lambda=10, scale_pos_weight=3, seed=42, subsample=0.9)"
            ]
          },
          "metadata": {},
          "execution_count": 20
        }
      ]
    },
    {
      "cell_type": "markdown",
      "metadata": {
        "id": "mlC7s2jU4Dx1"
      },
      "source": [
        "## Plot Confusion Matrix\n"
      ]
    },
    {
      "cell_type": "code",
      "metadata": {
        "colab": {
          "base_uri": "https://localhost:8080/",
          "height": 352
        },
        "id": "91kwR4Xx4Het",
        "outputId": "e0fcf9a6-cf36-4337-84f1-c2bfe96313ac"
      },
      "source": [
        "plot_confusion_matrix(xgb_model_final,\n",
        "                      X_test,\n",
        "                      y_test,\n",
        "                      values_format='d',\n",
        "                      display_labels=[\"Did not left\",\"Left\"])"
      ],
      "execution_count": 21,
      "outputs": [
        {
          "output_type": "stream",
          "name": "stderr",
          "text": [
            "/usr/local/lib/python3.7/dist-packages/sklearn/utils/deprecation.py:87: FutureWarning: Function plot_confusion_matrix is deprecated; Function `plot_confusion_matrix` is deprecated in 1.0 and will be removed in 1.2. Use one of the class methods: ConfusionMatrixDisplay.from_predictions or ConfusionMatrixDisplay.from_estimator.\n",
            "  warnings.warn(msg, category=FutureWarning)\n"
          ]
        },
        {
          "output_type": "execute_result",
          "data": {
            "text/plain": [
              "<sklearn.metrics._plot.confusion_matrix.ConfusionMatrixDisplay at 0x7f08e6d324d0>"
            ]
          },
          "metadata": {},
          "execution_count": 21
        },
        {
          "output_type": "display_data",
          "data": {
            "image/png": "[encoded data removed]",
            "text/plain": [
              "<Figure size 432x288 with 2 Axes>"
            ]
          },
          "metadata": {
            "needs_background": "light"
          }
        }
      ]
    },
    {
      "cell_type": "markdown",
      "metadata": {
        "id": "bjwbhTDd7SDs"
      },
      "source": [
        "## Plotting the tree\n",
        "Build the first tree to avoid average of all the trees"
      ]
    },
    {
      "cell_type": "code",
      "metadata": {
        "colab": {
          "base_uri": "https://localhost:8080/"
        },
        "id": "sbKXJ0fy7VQ0",
        "outputId": "4746a21d-1da8-4316-887e-e114519ac9a9"
      },
      "source": [
        "# Build the first tree to avoid average of all the trees\n",
        "xgb_model_tree_plot = xgb.XGBClassifier(objective='binary:logistic',\n",
        "                                    seed=42,\n",
        "                                    gamma=0.25,\n",
        "                                    learn_rate = 0.1,\n",
        "                                    max_depth=4,\n",
        "                                    reg_lambda=10,\n",
        "                                    scale_pos_weight=3,                                    \n",
        "                                    subsample=0.9, \n",
        "                                    colsample_bytree=0.5,\n",
        "                                    n_estimators=1)\n",
        "xgb_model_tree_plot.fit(X_train, y_train)\n",
        "            "
      ],
      "execution_count": 22,
      "outputs": [
        {
          "output_type": "execute_result",
          "data": {
            "text/plain": [
              "XGBClassifier(colsample_bytree=0.5, gamma=0.25, learn_rate=0.1, max_depth=4,\n",
              "              n_estimators=1, reg_lambda=10, scale_pos_weight=3, seed=42,\n",
              "              subsample=0.9)"
            ]
          },
          "metadata": {},
          "execution_count": 22
        }
      ]
    },
    {
      "cell_type": "code",
      "metadata": {
        "colab": {
          "base_uri": "https://localhost:8080/"
        },
        "id": "9w9VZdCtr-l9",
        "outputId": "f0109b8f-8aa5-4b70-a66f-3f04a3dd0de0"
      },
      "source": [
        "bst = xgb_model_tree_plot.get_booster()\n",
        "for type in ('weight','gain','cover','total_gain','total_cover'):\n",
        "  print(\"%s: \" % type, bst.get_score(importance_type = type))"
      ],
      "execution_count": 23,
      "outputs": [
        {
          "output_type": "stream",
          "name": "stdout",
          "text": [
            "weight:  {'Contract_Month-to-month': 1, 'Dependents_No': 2, 'Contract_One_year': 1, 'City_San_Bernardino': 1, 'Streaming_TV_Yes': 1, 'Tenure_Months': 3, 'Payment_Method_Mailed_check': 1, 'Partner_Yes': 1, 'Online_Backup_No_internet_service': 1}\n",
            "gain:  {'Contract_Month-to-month': 1631.77637, 'Dependents_No': 181.70684795, 'Contract_One_year': 59.6826782, 'City_San_Bernardino': 11.035614, 'Streaming_TV_Yes': 55.2778931, 'Tenure_Months': 59.412152633333335, 'Payment_Method_Mailed_check': 9.28771687, 'Partner_Yes': 22.5820084, 'Online_Backup_No_internet_service': 158.669495}\n",
            "cover:  {'Contract_Month-to-month': 1820.25, 'Dependents_No': 910.125, 'Contract_One_year': 444.5, 'City_San_Bernardino': 196.75, 'Streaming_TV_Yes': 247.75, 'Tenure_Months': 403.5833333333333, 'Payment_Method_Mailed_check': 49.75, 'Partner_Yes': 93.5, 'Online_Backup_No_internet_service': 1067.5}\n",
            "total_gain:  {'Contract_Month-to-month': 1631.77637, 'Dependents_No': 363.4136959, 'Contract_One_year': 59.6826782, 'City_San_Bernardino': 11.035614, 'Streaming_TV_Yes': 55.2778931, 'Tenure_Months': 178.2364579, 'Payment_Method_Mailed_check': 9.28771687, 'Partner_Yes': 22.5820084, 'Online_Backup_No_internet_service': 158.669495}\n",
            "total_cover:  {'Contract_Month-to-month': 1820.25, 'Dependents_No': 1820.25, 'Contract_One_year': 444.5, 'City_San_Bernardino': 196.75, 'Streaming_TV_Yes': 247.75, 'Tenure_Months': 1210.75, 'Payment_Method_Mailed_check': 49.75, 'Partner_Yes': 93.5, 'Online_Backup_No_internet_service': 1067.5}\n"
          ]
        }
      ]
    },
    {
      "cell_type": "code",
      "metadata": {
        "colab": {
          "base_uri": "https://localhost:8080/",
          "height": 379
        },
        "id": "H1wUHE8ys2T8",
        "outputId": "76eb0800-2443-4839-a252-f43ef817ab96"
      },
      "source": [
        "node_params = {'shape': 'box',\n",
        "               'style':'filled,rounded',\n",
        "               'fillcolor':\"#78cbe\"}\n",
        "\n",
        "leaf_params = {'shape': 'box',\n",
        "               'style':'filled',\n",
        "               'fillcolor':\"#e48038\"}\n",
        "\n",
        "xgb.to_graphviz(xgb_model_tree_plot, num_trees=0, size='16,9',\n",
        "                condition_node_params=node_params,\n",
        "                leaf_node_params=leaf_params)"
      ],
      "execution_count": 30,
      "outputs": [
        {
          "output_type": "execute_result",
          "data": {
            "text/plain": [
              "<graphviz.dot.Digraph at 0x7f08cfce5e10>"
            ],
            "image/svg+xml": "<?xml version=\"1.0\" encoding=\"UTF-8\" standalone=\"no\"?>\n<!DOCTYPE svg PUBLIC \"-//W3C//DTD SVG 1.1//EN\"\n \"http://www.w3.org/Graphics/SVG/1.1/DTD/svg11.dtd\">\n<!-- Generated by graphviz version 2.40.1 (20161225.0304)\n -->\n<!-- Title: %3 Pages: 1 -->\n<svg width=\"1152pt\" height=\"254pt\"\n viewBox=\"0.00 0.00 1152.00 253.98\" xmlns=\"http://www.w3.org/2000/svg\" xmlns:xlink=\"http://www.w3.org/1999/xlink\">\n<g id=\"graph0\" class=\"graph\" transform=\"scale(.6479 .6479) rotate(0) translate(4 388)\">\n<title>%3</title>\n<polygon fill=\"#ffffff\" stroke=\"transparent\" points=\"-4,4 -4,-388 1774,-388 1774,4 -4,4\"/>\n<!-- 0 -->\n<g id=\"node1\" class=\"node\">\n<title>0</title>\n<path fill=\"#78cb0e\" stroke=\"#000000\" d=\"M710.5,-384C710.5,-384 549.5,-384 549.5,-384 543.5,-384 537.5,-378 537.5,-372 537.5,-372 537.5,-360 537.5,-360 537.5,-354 543.5,-348 549.5,-348 549.5,-348 710.5,-348 710.5,-348 716.5,-348 722.5,-354 722.5,-360 722.5,-360 722.5,-372 722.5,-372 722.5,-378 716.5,-384 710.5,-384\"/>\n<text text-anchor=\"middle\" x=\"630\" y=\"-362.3\" font-family=\"Times,serif\" font-size=\"14.00\" fill=\"#000000\">Contract_Month&#45;to&#45;month&lt;1</text>\n</g>\n<!-- 1 -->\n<g id=\"node2\" class=\"node\">\n<title>1</title>\n<path fill=\"#78cb0e\" stroke=\"#000000\" d=\"M509.5,-297C509.5,-297 408.5,-297 408.5,-297 402.5,-297 396.5,-291 396.5,-285 396.5,-285 396.5,-273 396.5,-273 396.5,-267 402.5,-261 408.5,-261 408.5,-261 509.5,-261 509.5,-261 515.5,-261 521.5,-267 521.5,-273 521.5,-273 521.5,-285 521.5,-285 521.5,-291 515.5,-297 509.5,-297\"/>\n<text text-anchor=\"middle\" x=\"459\" y=\"-275.3\" font-family=\"Times,serif\" font-size=\"14.00\" fill=\"#000000\">Dependents_No&lt;1</text>\n</g>\n<!-- 0&#45;&gt;1 -->\n<g id=\"edge1\" class=\"edge\">\n<title>0&#45;&gt;1</title>\n<path fill=\"none\" stroke=\"#0000ff\" d=\"M594.5687,-347.9735C568.0869,-334.5003 531.7107,-315.9932 503.3056,-301.5415\"/>\n<polygon fill=\"#0000ff\" stroke=\"#0000ff\" points=\"504.8858,-298.4185 494.3859,-297.0034 501.7116,-304.6575 504.8858,-298.4185\"/>\n<text text-anchor=\"middle\" x=\"590.5\" y=\"-318.8\" font-family=\"Times,serif\" font-size=\"14.00\" fill=\"#000000\">yes, missing</text>\n</g>\n<!-- 2 -->\n<g id=\"node3\" class=\"node\">\n<title>2</title>\n<path fill=\"#78cb0e\" stroke=\"#000000\" d=\"M930.5,-297C930.5,-297 829.5,-297 829.5,-297 823.5,-297 817.5,-291 817.5,-285 817.5,-285 817.5,-273 817.5,-273 817.5,-267 823.5,-261 829.5,-261 829.5,-261 930.5,-261 930.5,-261 936.5,-261 942.5,-267 942.5,-273 942.5,-273 942.5,-285 942.5,-285 942.5,-291 936.5,-297 930.5,-297\"/>\n<text text-anchor=\"middle\" x=\"880\" y=\"-275.3\" font-family=\"Times,serif\" font-size=\"14.00\" fill=\"#000000\">Dependents_No&lt;1</text>\n</g>\n<!-- 0&#45;&gt;2 -->\n<g id=\"edge2\" class=\"edge\">\n<title>0&#45;&gt;2</title>\n<path fill=\"none\" stroke=\"#ff0000\" d=\"M681.8002,-347.9735C721.6057,-334.1212 776.7021,-314.9477 818.703,-300.3313\"/>\n<polygon fill=\"#ff0000\" stroke=\"#ff0000\" points=\"819.9721,-303.5957 828.2662,-297.0034 817.6714,-296.9845 819.9721,-303.5957\"/>\n<text text-anchor=\"middle\" x=\"778\" y=\"-318.8\" font-family=\"Times,serif\" font-size=\"14.00\" fill=\"#000000\">no</text>\n</g>\n<!-- 3 -->\n<g id=\"node4\" class=\"node\">\n<title>3</title>\n<polygon fill=\"#e48038\" stroke=\"#000000\" points=\"369,-210 241,-210 241,-174 369,-174 369,-210\"/>\n<text text-anchor=\"middle\" x=\"305\" y=\"-188.3\" font-family=\"Times,serif\" font-size=\"14.00\" fill=\"#000000\">leaf=&#45;0.188571438</text>\n</g>\n<!-- 1&#45;&gt;3 -->\n<g id=\"edge3\" class=\"edge\">\n<title>1&#45;&gt;3</title>\n<path fill=\"none\" stroke=\"#0000ff\" d=\"M418.8225,-260.8592C407.4181,-255.4032 395.0902,-249.209 384,-243 369.1602,-234.6917 353.3154,-224.6994 339.7411,-215.7697\"/>\n<polygon fill=\"#0000ff\" stroke=\"#0000ff\" points=\"341.4484,-212.702 331.1822,-210.0835 337.5747,-218.5325 341.4484,-212.702\"/>\n<text text-anchor=\"middle\" x=\"419.5\" y=\"-231.8\" font-family=\"Times,serif\" font-size=\"14.00\" fill=\"#000000\">yes, missing</text>\n</g>\n<!-- 4 -->\n<g id=\"node5\" class=\"node\">\n<title>4</title>\n<path fill=\"#78cb0e\" stroke=\"#000000\" d=\"M519,-210C519,-210 399,-210 399,-210 393,-210 387,-204 387,-198 387,-198 387,-186 387,-186 387,-180 393,-174 399,-174 399,-174 519,-174 519,-174 525,-174 531,-180 531,-186 531,-186 531,-198 531,-198 531,-204 525,-210 519,-210\"/>\n<text text-anchor=\"middle\" x=\"459\" y=\"-188.3\" font-family=\"Times,serif\" font-size=\"14.00\" fill=\"#000000\">Contract_One_year&lt;1</text>\n</g>\n<!-- 1&#45;&gt;4 -->\n<g id=\"edge4\" class=\"edge\">\n<title>1&#45;&gt;4</title>\n<path fill=\"none\" stroke=\"#ff0000\" d=\"M459,-260.9735C459,-249.1918 459,-233.5607 459,-220.1581\"/>\n<polygon fill=\"#ff0000\" stroke=\"#ff0000\" points=\"462.5001,-220.0033 459,-210.0034 455.5001,-220.0034 462.5001,-220.0033\"/>\n<text text-anchor=\"middle\" x=\"467\" y=\"-231.8\" font-family=\"Times,serif\" font-size=\"14.00\" fill=\"#000000\">no</text>\n</g>\n<!-- 5 -->\n<g id=\"node12\" class=\"node\">\n<title>5</title>\n<path fill=\"#78cb0e\" stroke=\"#000000\" d=\"M930,-210C930,-210 830,-210 830,-210 824,-210 818,-204 818,-198 818,-198 818,-186 818,-186 818,-180 824,-174 830,-174 830,-174 930,-174 930,-174 936,-174 942,-180 942,-186 942,-186 942,-198 942,-198 942,-204 936,-210 930,-210\"/>\n<text text-anchor=\"middle\" x=\"880\" y=\"-188.3\" font-family=\"Times,serif\" font-size=\"14.00\" fill=\"#000000\">Tenure_Months&lt;7</text>\n</g>\n<!-- 2&#45;&gt;5 -->\n<g id=\"edge11\" class=\"edge\">\n<title>2&#45;&gt;5</title>\n<path fill=\"none\" stroke=\"#0000ff\" d=\"M880,-260.9735C880,-249.1918 880,-233.5607 880,-220.1581\"/>\n<polygon fill=\"#0000ff\" stroke=\"#0000ff\" points=\"883.5001,-220.0033 880,-210.0034 876.5001,-220.0034 883.5001,-220.0033\"/>\n<text text-anchor=\"middle\" x=\"915.5\" y=\"-231.8\" font-family=\"Times,serif\" font-size=\"14.00\" fill=\"#000000\">yes, missing</text>\n</g>\n<!-- 6 -->\n<g id=\"node13\" class=\"node\">\n<title>6</title>\n<path fill=\"#78cb0e\" stroke=\"#000000\" d=\"M1421.5,-210C1421.5,-210 1200.5,-210 1200.5,-210 1194.5,-210 1188.5,-204 1188.5,-198 1188.5,-198 1188.5,-186 1188.5,-186 1188.5,-180 1194.5,-174 1200.5,-174 1200.5,-174 1421.5,-174 1421.5,-174 1427.5,-174 1433.5,-180 1433.5,-186 1433.5,-186 1433.5,-198 1433.5,-198 1433.5,-204 1427.5,-210 1421.5,-210\"/>\n<text text-anchor=\"middle\" x=\"1311\" y=\"-188.3\" font-family=\"Times,serif\" font-size=\"14.00\" fill=\"#000000\">Online_Backup_No_internet_service&lt;1</text>\n</g>\n<!-- 2&#45;&gt;6 -->\n<g id=\"edge12\" class=\"edge\">\n<title>2&#45;&gt;6</title>\n<path fill=\"none\" stroke=\"#ff0000\" d=\"M942.6711,-266.3495C1013.2293,-252.1068 1128.8214,-228.7739 1211.7005,-212.0442\"/>\n<polygon fill=\"#ff0000\" stroke=\"#ff0000\" points=\"1212.5306,-215.4473 1221.6403,-210.0378 1211.1455,-208.5857 1212.5306,-215.4473\"/>\n<text text-anchor=\"middle\" x=\"1130\" y=\"-231.8\" font-family=\"Times,serif\" font-size=\"14.00\" fill=\"#000000\">no</text>\n</g>\n<!-- 7 -->\n<g id=\"node6\" class=\"node\">\n<title>7</title>\n<path fill=\"#78cb0e\" stroke=\"#000000\" d=\"M279,-123C279,-123 145,-123 145,-123 139,-123 133,-117 133,-111 133,-111 133,-99 133,-99 133,-93 139,-87 145,-87 145,-87 279,-87 279,-87 285,-87 291,-93 291,-99 291,-99 291,-111 291,-111 291,-117 285,-123 279,-123\"/>\n<text text-anchor=\"middle\" x=\"212\" y=\"-101.3\" font-family=\"Times,serif\" font-size=\"14.00\" fill=\"#000000\">City_San_Bernardino&lt;1</text>\n</g>\n<!-- 4&#45;&gt;7 -->\n<g id=\"edge5\" class=\"edge\">\n<title>4&#45;&gt;7</title>\n<path fill=\"none\" stroke=\"#0000ff\" d=\"M407.8214,-173.9735C368.4936,-160.1212 314.0583,-140.9477 272.5614,-126.3313\"/>\n<polygon fill=\"#0000ff\" stroke=\"#0000ff\" points=\"273.7078,-123.0244 263.113,-123.0034 271.3822,-129.6268 273.7078,-123.0244\"/>\n<text text-anchor=\"middle\" x=\"386.5\" y=\"-144.8\" font-family=\"Times,serif\" font-size=\"14.00\" fill=\"#000000\">yes, missing</text>\n</g>\n<!-- 8 -->\n<g id=\"node7\" class=\"node\">\n<title>8</title>\n<path fill=\"#78cb0e\" stroke=\"#000000\" d=\"M520,-123C520,-123 398,-123 398,-123 392,-123 386,-117 386,-111 386,-111 386,-99 386,-99 386,-93 392,-87 398,-87 398,-87 520,-87 520,-87 526,-87 532,-93 532,-99 532,-99 532,-111 532,-111 532,-117 526,-123 520,-123\"/>\n<text text-anchor=\"middle\" x=\"459\" y=\"-101.3\" font-family=\"Times,serif\" font-size=\"14.00\" fill=\"#000000\">Streaming_TV_Yes&lt;1</text>\n</g>\n<!-- 4&#45;&gt;8 -->\n<g id=\"edge6\" class=\"edge\">\n<title>4&#45;&gt;8</title>\n<path fill=\"none\" stroke=\"#ff0000\" d=\"M459,-173.9735C459,-162.1918 459,-146.5607 459,-133.1581\"/>\n<polygon fill=\"#ff0000\" stroke=\"#ff0000\" points=\"462.5001,-133.0033 459,-123.0034 455.5001,-133.0034 462.5001,-133.0033\"/>\n<text text-anchor=\"middle\" x=\"467\" y=\"-144.8\" font-family=\"Times,serif\" font-size=\"14.00\" fill=\"#000000\">no</text>\n</g>\n<!-- 13 -->\n<g id=\"node8\" class=\"node\">\n<title>13</title>\n<polygon fill=\"#e48038\" stroke=\"#000000\" points=\"128,-36 0,-36 0,0 128,0 128,-36\"/>\n<text text-anchor=\"middle\" x=\"64\" y=\"-14.3\" font-family=\"Times,serif\" font-size=\"14.00\" fill=\"#000000\">leaf=&#45;0.141951218</text>\n</g>\n<!-- 7&#45;&gt;13 -->\n<g id=\"edge7\" class=\"edge\">\n<title>7&#45;&gt;13</title>\n<path fill=\"none\" stroke=\"#0000ff\" d=\"M171.2843,-86.9335C159.9876,-81.5257 147.8501,-75.3378 137,-69 123.1164,-60.8903 108.4654,-50.9527 95.9618,-42.0109\"/>\n<polygon fill=\"#0000ff\" stroke=\"#0000ff\" points=\"97.836,-39.0467 87.6844,-36.0141 93.7292,-44.7154 97.836,-39.0467\"/>\n<text text-anchor=\"middle\" x=\"172.5\" y=\"-57.8\" font-family=\"Times,serif\" font-size=\"14.00\" fill=\"#000000\">yes, missing</text>\n</g>\n<!-- 14 -->\n<g id=\"node9\" class=\"node\">\n<title>14</title>\n<polygon fill=\"#e48038\" stroke=\"#000000\" points=\"277.5,-36 146.5,-36 146.5,0 277.5,0 277.5,-36\"/>\n<text text-anchor=\"middle\" x=\"212\" y=\"-14.3\" font-family=\"Times,serif\" font-size=\"14.00\" fill=\"#000000\">leaf=0.0212765969</text>\n</g>\n<!-- 7&#45;&gt;14 -->\n<g id=\"edge8\" class=\"edge\">\n<title>7&#45;&gt;14</title>\n<path fill=\"none\" stroke=\"#ff0000\" d=\"M212,-86.9735C212,-75.1918 212,-59.5607 212,-46.1581\"/>\n<polygon fill=\"#ff0000\" stroke=\"#ff0000\" points=\"215.5001,-46.0033 212,-36.0034 208.5001,-46.0034 215.5001,-46.0033\"/>\n<text text-anchor=\"middle\" x=\"220\" y=\"-57.8\" font-family=\"Times,serif\" font-size=\"14.00\" fill=\"#000000\">no</text>\n</g>\n<!-- 15 -->\n<g id=\"node10\" class=\"node\">\n<title>15</title>\n<polygon fill=\"#e48038\" stroke=\"#000000\" points=\"424,-36 296,-36 296,0 424,0 424,-36\"/>\n<text text-anchor=\"middle\" x=\"360\" y=\"-14.3\" font-family=\"Times,serif\" font-size=\"14.00\" fill=\"#000000\">leaf=&#45;0.106542051</text>\n</g>\n<!-- 8&#45;&gt;15 -->\n<g id=\"edge9\" class=\"edge\">\n<title>8&#45;&gt;15</title>\n<path fill=\"none\" stroke=\"#0000ff\" d=\"M430.3586,-86.8438C422.5222,-81.4351 414.2077,-75.2692 407,-69 398.3253,-61.4549 389.5831,-52.4432 382.0306,-44.1085\"/>\n<polygon fill=\"#0000ff\" stroke=\"#0000ff\" points=\"384.4469,-41.5579 375.1951,-36.3951 379.2079,-46.2006 384.4469,-41.5579\"/>\n<text text-anchor=\"middle\" x=\"442.5\" y=\"-57.8\" font-family=\"Times,serif\" font-size=\"14.00\" fill=\"#000000\">yes, missing</text>\n</g>\n<!-- 16 -->\n<g id=\"node11\" class=\"node\">\n<title>16</title>\n<polygon fill=\"#e48038\" stroke=\"#000000\" points=\"578,-36 442,-36 442,0 578,0 578,-36\"/>\n<text text-anchor=\"middle\" x=\"510\" y=\"-14.3\" font-family=\"Times,serif\" font-size=\"14.00\" fill=\"#000000\">leaf=&#45;0.0126865674</text>\n</g>\n<!-- 8&#45;&gt;16 -->\n<g id=\"edge10\" class=\"edge\">\n<title>8&#45;&gt;16</title>\n<path fill=\"none\" stroke=\"#ff0000\" d=\"M469.5672,-86.9735C476.6789,-74.8418 486.1832,-58.6287 494.1901,-44.9698\"/>\n<polygon fill=\"#ff0000\" stroke=\"#ff0000\" points=\"497.4085,-46.4004 499.4463,-36.0034 491.3696,-42.8603 497.4085,-46.4004\"/>\n<text text-anchor=\"middle\" x=\"496\" y=\"-57.8\" font-family=\"Times,serif\" font-size=\"14.00\" fill=\"#000000\">no</text>\n</g>\n<!-- 9 -->\n<g id=\"node14\" class=\"node\">\n<title>9</title>\n<path fill=\"#78cb0e\" stroke=\"#000000\" d=\"M900.5,-123C900.5,-123 701.5,-123 701.5,-123 695.5,-123 689.5,-117 689.5,-111 689.5,-111 689.5,-99 689.5,-99 689.5,-93 695.5,-87 701.5,-87 701.5,-87 900.5,-87 900.5,-87 906.5,-87 912.5,-93 912.5,-99 912.5,-99 912.5,-111 912.5,-111 912.5,-117 906.5,-123 900.5,-123\"/>\n<text text-anchor=\"middle\" x=\"801\" y=\"-101.3\" font-family=\"Times,serif\" font-size=\"14.00\" fill=\"#000000\">Payment_Method_Mailed_check&lt;1</text>\n</g>\n<!-- 5&#45;&gt;9 -->\n<g id=\"edge13\" class=\"edge\">\n<title>5&#45;&gt;9</title>\n<path fill=\"none\" stroke=\"#0000ff\" d=\"M861.9811,-173.8874C856.4606,-168.2263 850.4169,-161.9137 845,-156 837.6542,-147.9805 829.8387,-139.057 822.8643,-130.9447\"/>\n<polygon fill=\"#0000ff\" stroke=\"#0000ff\" points=\"825.3756,-128.4959 816.2188,-123.1663 820.0535,-133.0429 825.3756,-128.4959\"/>\n<text text-anchor=\"middle\" x=\"880.5\" y=\"-144.8\" font-family=\"Times,serif\" font-size=\"14.00\" fill=\"#000000\">yes, missing</text>\n</g>\n<!-- 10 -->\n<g id=\"node15\" class=\"node\">\n<title>10</title>\n<path fill=\"#78cb0e\" stroke=\"#000000\" d=\"M1019.5,-123C1019.5,-123 942.5,-123 942.5,-123 936.5,-123 930.5,-117 930.5,-111 930.5,-111 930.5,-99 930.5,-99 930.5,-93 936.5,-87 942.5,-87 942.5,-87 1019.5,-87 1019.5,-87 1025.5,-87 1031.5,-93 1031.5,-99 1031.5,-99 1031.5,-111 1031.5,-111 1031.5,-117 1025.5,-123 1019.5,-123\"/>\n<text text-anchor=\"middle\" x=\"981\" y=\"-101.3\" font-family=\"Times,serif\" font-size=\"14.00\" fill=\"#000000\">Partner_Yes&lt;1</text>\n</g>\n<!-- 5&#45;&gt;10 -->\n<g id=\"edge14\" class=\"edge\">\n<title>5&#45;&gt;10</title>\n<path fill=\"none\" stroke=\"#ff0000\" d=\"M900.9273,-173.9735C915.8238,-161.1419 936.0209,-143.7443 952.4035,-129.6326\"/>\n<polygon fill=\"#ff0000\" stroke=\"#ff0000\" points=\"954.8071,-132.1817 960.0995,-123.0034 950.2386,-126.878 954.8071,-132.1817\"/>\n<text text-anchor=\"middle\" x=\"945\" y=\"-144.8\" font-family=\"Times,serif\" font-size=\"14.00\" fill=\"#000000\">no</text>\n</g>\n<!-- 11 -->\n<g id=\"node20\" class=\"node\">\n<title>11</title>\n<path fill=\"#78cb0e\" stroke=\"#000000\" d=\"M1364.5,-123C1364.5,-123 1257.5,-123 1257.5,-123 1251.5,-123 1245.5,-117 1245.5,-111 1245.5,-111 1245.5,-99 1245.5,-99 1245.5,-93 1251.5,-87 1257.5,-87 1257.5,-87 1364.5,-87 1364.5,-87 1370.5,-87 1376.5,-93 1376.5,-99 1376.5,-99 1376.5,-111 1376.5,-111 1376.5,-117 1370.5,-123 1364.5,-123\"/>\n<text text-anchor=\"middle\" x=\"1311\" y=\"-101.3\" font-family=\"Times,serif\" font-size=\"14.00\" fill=\"#000000\">Tenure_Months&lt;16</text>\n</g>\n<!-- 6&#45;&gt;11 -->\n<g id=\"edge19\" class=\"edge\">\n<title>6&#45;&gt;11</title>\n<path fill=\"none\" stroke=\"#0000ff\" d=\"M1311,-173.9735C1311,-162.1918 1311,-146.5607 1311,-133.1581\"/>\n<polygon fill=\"#0000ff\" stroke=\"#0000ff\" points=\"1314.5001,-133.0033 1311,-123.0034 1307.5001,-133.0034 1314.5001,-133.0033\"/>\n<text text-anchor=\"middle\" x=\"1346.5\" y=\"-144.8\" font-family=\"Times,serif\" font-size=\"14.00\" fill=\"#000000\">yes, missing</text>\n</g>\n<!-- 12 -->\n<g id=\"node21\" class=\"node\">\n<title>12</title>\n<path fill=\"#78cb0e\" stroke=\"#000000\" d=\"M1604,-123C1604,-123 1504,-123 1504,-123 1498,-123 1492,-117 1492,-111 1492,-111 1492,-99 1492,-99 1492,-93 1498,-87 1504,-87 1504,-87 1604,-87 1604,-87 1610,-87 1616,-93 1616,-99 1616,-99 1616,-111 1616,-111 1616,-117 1610,-123 1604,-123\"/>\n<text text-anchor=\"middle\" x=\"1554\" y=\"-101.3\" font-family=\"Times,serif\" font-size=\"14.00\" fill=\"#000000\">Tenure_Months&lt;2</text>\n</g>\n<!-- 6&#45;&gt;12 -->\n<g id=\"edge20\" class=\"edge\">\n<title>6&#45;&gt;12</title>\n<path fill=\"none\" stroke=\"#ff0000\" d=\"M1361.3498,-173.9735C1399.9593,-160.1504 1453.369,-141.0284 1494.1613,-126.4237\"/>\n<polygon fill=\"#ff0000\" stroke=\"#ff0000\" points=\"1495.4797,-129.6693 1503.7147,-123.0034 1493.1202,-123.079 1495.4797,-129.6693\"/>\n<text text-anchor=\"middle\" x=\"1456\" y=\"-144.8\" font-family=\"Times,serif\" font-size=\"14.00\" fill=\"#000000\">no</text>\n</g>\n<!-- 17 -->\n<g id=\"node16\" class=\"node\">\n<title>17</title>\n<polygon fill=\"#e48038\" stroke=\"#000000\" points=\"727.5,-36 596.5,-36 596.5,0 727.5,0 727.5,-36\"/>\n<text text-anchor=\"middle\" x=\"662\" y=\"-14.3\" font-family=\"Times,serif\" font-size=\"14.00\" fill=\"#000000\">leaf=0.0545454584</text>\n</g>\n<!-- 9&#45;&gt;17 -->\n<g id=\"edge15\" class=\"edge\">\n<title>9&#45;&gt;17</title>\n<path fill=\"none\" stroke=\"#0000ff\" d=\"M763.9086,-86.9356C753.4146,-81.4809 742.1038,-75.2681 732,-69 718.9424,-60.8994 705.1547,-51.1389 693.3007,-42.3347\"/>\n<polygon fill=\"#0000ff\" stroke=\"#0000ff\" points=\"695.1452,-39.3426 685.049,-36.1303 690.9384,-44.9375 695.1452,-39.3426\"/>\n<text text-anchor=\"middle\" x=\"767.5\" y=\"-57.8\" font-family=\"Times,serif\" font-size=\"14.00\" fill=\"#000000\">yes, missing</text>\n</g>\n<!-- 18 -->\n<g id=\"node17\" class=\"node\">\n<title>18</title>\n<polygon fill=\"#e48038\" stroke=\"#000000\" points=\"882,-36 746,-36 746,0 882,0 882,-36\"/>\n<text text-anchor=\"middle\" x=\"814\" y=\"-14.3\" font-family=\"Times,serif\" font-size=\"14.00\" fill=\"#000000\">leaf=&#45;0.0208000001</text>\n</g>\n<!-- 9&#45;&gt;18 -->\n<g id=\"edge16\" class=\"edge\">\n<title>9&#45;&gt;18</title>\n<path fill=\"none\" stroke=\"#ff0000\" d=\"M803.6936,-86.9735C805.4541,-75.1918 807.7898,-59.5607 809.7925,-46.1581\"/>\n<polygon fill=\"#ff0000\" stroke=\"#ff0000\" points=\"813.2935,-46.4108 811.3098,-36.0034 806.3703,-45.3763 813.2935,-46.4108\"/>\n<text text-anchor=\"middle\" x=\"817\" y=\"-57.8\" font-family=\"Times,serif\" font-size=\"14.00\" fill=\"#000000\">no</text>\n</g>\n<!-- 19 -->\n<g id=\"node18\" class=\"node\">\n<title>19</title>\n<polygon fill=\"#e48038\" stroke=\"#000000\" points=\"1035.5,-36 900.5,-36 900.5,0 1035.5,0 1035.5,-36\"/>\n<text text-anchor=\"middle\" x=\"968\" y=\"-14.3\" font-family=\"Times,serif\" font-size=\"14.00\" fill=\"#000000\">leaf=&#45;0.0119205294</text>\n</g>\n<!-- 10&#45;&gt;19 -->\n<g id=\"edge17\" class=\"edge\">\n<title>10&#45;&gt;19</title>\n<path fill=\"none\" stroke=\"#0000ff\" d=\"M978.3064,-86.9735C976.5459,-75.1918 974.2102,-59.5607 972.2075,-46.1581\"/>\n<polygon fill=\"#0000ff\" stroke=\"#0000ff\" points=\"975.6297,-45.3763 970.6902,-36.0034 968.7065,-46.4108 975.6297,-45.3763\"/>\n<text text-anchor=\"middle\" x=\"1011.5\" y=\"-57.8\" font-family=\"Times,serif\" font-size=\"14.00\" fill=\"#000000\">yes, missing</text>\n</g>\n<!-- 20 -->\n<g id=\"node19\" class=\"node\">\n<title>20</title>\n<polygon fill=\"#e48038\" stroke=\"#000000\" points=\"1182,-36 1054,-36 1054,0 1182,0 1182,-36\"/>\n<text text-anchor=\"middle\" x=\"1118\" y=\"-14.3\" font-family=\"Times,serif\" font-size=\"14.00\" fill=\"#000000\">leaf=&#45;0.122112215</text>\n</g>\n<!-- 10&#45;&gt;20 -->\n<g id=\"edge18\" class=\"edge\">\n<title>10&#45;&gt;20</title>\n<path fill=\"none\" stroke=\"#ff0000\" d=\"M1019.0947,-86.9413C1029.6392,-81.5335 1040.9447,-75.3437 1051,-69 1063.7345,-60.966 1077.0677,-51.141 1088.4564,-42.2667\"/>\n<polygon fill=\"#ff0000\" stroke=\"#ff0000\" points=\"1090.6944,-44.959 1096.3691,-36.012 1086.3535,-39.4675 1090.6944,-44.959\"/>\n<text text-anchor=\"middle\" x=\"1081\" y=\"-57.8\" font-family=\"Times,serif\" font-size=\"14.00\" fill=\"#000000\">no</text>\n</g>\n<!-- 21 -->\n<g id=\"node22\" class=\"node\">\n<title>21</title>\n<polygon fill=\"#e48038\" stroke=\"#000000\" points=\"1324,-36 1200,-36 1200,0 1324,0 1324,-36\"/>\n<text text-anchor=\"middle\" x=\"1262\" y=\"-14.3\" font-family=\"Times,serif\" font-size=\"14.00\" fill=\"#000000\">leaf=0.127468884</text>\n</g>\n<!-- 11&#45;&gt;21 -->\n<g id=\"edge21\" class=\"edge\">\n<title>11&#45;&gt;21</title>\n<path fill=\"none\" stroke=\"#0000ff\" d=\"M1300.8472,-86.9735C1294.0144,-74.8418 1284.8828,-58.6287 1277.1899,-44.9698\"/>\n<polygon fill=\"#0000ff\" stroke=\"#0000ff\" points=\"1280.0968,-42.9989 1272.1398,-36.0034 1273.9977,-46.4341 1280.0968,-42.9989\"/>\n<text text-anchor=\"middle\" x=\"1325.5\" y=\"-57.8\" font-family=\"Times,serif\" font-size=\"14.00\" fill=\"#000000\">yes, missing</text>\n</g>\n<!-- 22 -->\n<g id=\"node23\" class=\"node\">\n<title>22</title>\n<polygon fill=\"#e48038\" stroke=\"#000000\" points=\"1473.5,-36 1342.5,-36 1342.5,0 1473.5,0 1473.5,-36\"/>\n<text text-anchor=\"middle\" x=\"1408\" y=\"-14.3\" font-family=\"Times,serif\" font-size=\"14.00\" fill=\"#000000\">leaf=0.0620174371</text>\n</g>\n<!-- 11&#45;&gt;22 -->\n<g id=\"edge22\" class=\"edge\">\n<title>11&#45;&gt;22</title>\n<path fill=\"none\" stroke=\"#ff0000\" d=\"M1341.2524,-86.9992C1349.3086,-81.6368 1357.7738,-75.4558 1365,-69 1373.3775,-61.5156 1381.58,-52.3809 1388.5373,-43.921\"/>\n<polygon fill=\"#ff0000\" stroke=\"#ff0000\" points=\"1391.284,-46.0903 1394.7912,-36.0927 1385.815,-41.7211 1391.284,-46.0903\"/>\n<text text-anchor=\"middle\" x=\"1388\" y=\"-57.8\" font-family=\"Times,serif\" font-size=\"14.00\" fill=\"#000000\">no</text>\n</g>\n<!-- 23 -->\n<g id=\"node24\" class=\"node\">\n<title>23</title>\n<polygon fill=\"#e48038\" stroke=\"#000000\" points=\"1616,-36 1492,-36 1492,0 1616,0 1616,-36\"/>\n<text text-anchor=\"middle\" x=\"1554\" y=\"-14.3\" font-family=\"Times,serif\" font-size=\"14.00\" fill=\"#000000\">leaf=0.035028249</text>\n</g>\n<!-- 12&#45;&gt;23 -->\n<g id=\"edge23\" class=\"edge\">\n<title>12&#45;&gt;23</title>\n<path fill=\"none\" stroke=\"#0000ff\" d=\"M1554,-86.9735C1554,-75.1918 1554,-59.5607 1554,-46.1581\"/>\n<polygon fill=\"#0000ff\" stroke=\"#0000ff\" points=\"1557.5001,-46.0033 1554,-36.0034 1550.5001,-46.0034 1557.5001,-46.0033\"/>\n<text text-anchor=\"middle\" x=\"1589.5\" y=\"-57.8\" font-family=\"Times,serif\" font-size=\"14.00\" fill=\"#000000\">yes, missing</text>\n</g>\n<!-- 24 -->\n<g id=\"node25\" class=\"node\">\n<title>24</title>\n<polygon fill=\"#e48038\" stroke=\"#000000\" points=\"1770,-36 1634,-36 1634,0 1770,0 1770,-36\"/>\n<text text-anchor=\"middle\" x=\"1702\" y=\"-14.3\" font-family=\"Times,serif\" font-size=\"14.00\" fill=\"#000000\">leaf=&#45;0.0852320716</text>\n</g>\n<!-- 12&#45;&gt;24 -->\n<g id=\"edge24\" class=\"edge\">\n<title>12&#45;&gt;24</title>\n<path fill=\"none\" stroke=\"#ff0000\" d=\"M1594.7157,-86.9335C1606.0124,-81.5257 1618.1499,-75.3378 1629,-69 1642.8836,-60.8903 1657.5346,-50.9527 1670.0382,-42.0109\"/>\n<polygon fill=\"#ff0000\" stroke=\"#ff0000\" points=\"1672.2708,-44.7154 1678.3156,-36.0141 1668.164,-39.0467 1672.2708,-44.7154\"/>\n<text text-anchor=\"middle\" x=\"1659\" y=\"-57.8\" font-family=\"Times,serif\" font-size=\"14.00\" fill=\"#000000\">no</text>\n</g>\n</g>\n</svg>\n"
          },
          "metadata": {},
          "execution_count": 30
        }
      ]
    },
    {
      "cell_type": "code",
      "metadata": {
        "id": "xCSUbDj00K-z"
      },
      "source": [
        ""
      ],
      "execution_count": null,
      "outputs": []
    }
  ]
}